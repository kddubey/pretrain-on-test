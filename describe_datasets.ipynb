{
 "cells": [
  {
   "cell_type": "code",
   "execution_count": 1,
   "metadata": {},
   "outputs": [],
   "source": [
    "from typing import get_args\n",
    "\n",
    "from IPython.display import clear_output\n",
    "import pandas as pd\n",
    "from tqdm.auto import tqdm\n",
    "\n",
    "from pretrain_on_test import load_classification_data_from_hf, HuggingFaceDatasetNames"
   ]
  },
  {
   "cell_type": "code",
   "execution_count": 2,
   "metadata": {},
   "outputs": [],
   "source": [
    "hf_dataset_names = get_args(HuggingFaceDatasetNames)"
   ]
  },
  {
   "cell_type": "code",
   "execution_count": 3,
   "metadata": {},
   "outputs": [
    {
     "data": {
      "text/plain": [
       "20"
      ]
     },
     "execution_count": 3,
     "metadata": {},
     "output_type": "execute_result"
    }
   ],
   "source": [
    "len(hf_dataset_names)"
   ]
  },
  {
   "cell_type": "code",
   "execution_count": 4,
   "metadata": {},
   "outputs": [],
   "source": [
    "def describe(df: pd.DataFrame, random_state: int | None = None):\n",
    "    random_obs = df.sample(n=1, random_state=random_state)\n",
    "    return {\n",
    "        \"lengths\": df[\"text\"].str.len(),\n",
    "        \"num_classes\": len(df[\"label\"].unique()),\n",
    "        \"example\": {\n",
    "            \"text\": random_obs[\"text\"].iloc[0],\n",
    "            \"label\": random_obs[\"label\"].iloc[0],\n",
    "        },\n",
    "    }"
   ]
  },
  {
   "cell_type": "code",
   "execution_count": 5,
   "metadata": {},
   "outputs": [
    {
     "name": "stdout",
     "output_type": "stream",
     "text": [
      " 95%|█████████▌| 19/20 [03:21<00:29, 29.05s/it]\n"
     ]
    }
   ],
   "source": [
    "descriptions = []\n",
    "_progress_bar = tqdm(enumerate(hf_dataset_names), total=len(hf_dataset_names))\n",
    "for i, dataset in _progress_bar:\n",
    "    clear_output(wait=True)\n",
    "    print(_progress_bar)\n",
    "    descriptions.append(\n",
    "        describe(load_classification_data_from_hf(dataset), random_state=i)\n",
    "    )"
   ]
  },
  {
   "cell_type": "code",
   "execution_count": 6,
   "metadata": {},
   "outputs": [],
   "source": [
    "max_text_length_displayed = 50\n",
    "records = []\n",
    "for dataset, description in zip(hf_dataset_names, descriptions):\n",
    "    records.append(\n",
    "        {\n",
    "            \"dataset\": dataset,\n",
    "            \"number of classes\": description[\"num_classes\"],\n",
    "            \"example text\": description[\"example\"][\"text\"][:max_text_length_displayed],\n",
    "        }\n",
    "    )"
   ]
  },
  {
   "cell_type": "code",
   "execution_count": 7,
   "metadata": {},
   "outputs": [],
   "source": [
    "df = pd.DataFrame(records)"
   ]
  },
  {
   "cell_type": "code",
   "execution_count": 8,
   "metadata": {},
   "outputs": [
    {
     "data": {
      "text/html": [
       "<div>\n",
       "<style scoped>\n",
       "    .dataframe tbody tr th:only-of-type {\n",
       "        vertical-align: middle;\n",
       "    }\n",
       "\n",
       "    .dataframe tbody tr th {\n",
       "        vertical-align: top;\n",
       "    }\n",
       "\n",
       "    .dataframe thead th {\n",
       "        text-align: right;\n",
       "    }\n",
       "</style>\n",
       "<table border=\"1\" class=\"dataframe\">\n",
       "  <thead>\n",
       "    <tr style=\"text-align: right;\">\n",
       "      <th></th>\n",
       "      <th>dataset</th>\n",
       "      <th>number of classes</th>\n",
       "      <th>example text</th>\n",
       "    </tr>\n",
       "  </thead>\n",
       "  <tbody>\n",
       "    <tr>\n",
       "      <th>0</th>\n",
       "      <td>ag_news</td>\n",
       "      <td>4</td>\n",
       "      <td>First class to the moon London - British airli...</td>\n",
       "    </tr>\n",
       "    <tr>\n",
       "      <th>1</th>\n",
       "      <td>SetFit/amazon_counterfactual_en</td>\n",
       "      <td>2</td>\n",
       "      <td>I don't know why X-Mini doesn't update their p...</td>\n",
       "    </tr>\n",
       "    <tr>\n",
       "      <th>2</th>\n",
       "      <td>app_reviews</td>\n",
       "      <td>5</td>\n",
       "      <td>watshpp</td>\n",
       "    </tr>\n",
       "    <tr>\n",
       "      <th>3</th>\n",
       "      <td>christinacdl/clickbait_notclickbait_dataset</td>\n",
       "      <td>2</td>\n",
       "      <td>France, Italy, UK sending military advisers to...</td>\n",
       "    </tr>\n",
       "    <tr>\n",
       "      <th>4</th>\n",
       "      <td>climate_fever</td>\n",
       "      <td>4</td>\n",
       "      <td>The peer-reviewed study by two scientists and ...</td>\n",
       "    </tr>\n",
       "    <tr>\n",
       "      <th>5</th>\n",
       "      <td>aladar/craigslist_bargains</td>\n",
       "      <td>6</td>\n",
       "      <td>Buyer: That's too much for me can you go lower...</td>\n",
       "    </tr>\n",
       "    <tr>\n",
       "      <th>6</th>\n",
       "      <td>emo</td>\n",
       "      <td>4</td>\n",
       "      <td>i hate everyone why so they talk about me</td>\n",
       "    </tr>\n",
       "    <tr>\n",
       "      <th>7</th>\n",
       "      <td>dair-ai/emotion</td>\n",
       "      <td>6</td>\n",
       "      <td>i feel increasingly energetic and comfortable ...</td>\n",
       "    </tr>\n",
       "    <tr>\n",
       "      <th>8</th>\n",
       "      <td>SetFit/enron_spam</td>\n",
       "      <td>2</td>\n",
       "      <td>largest collection of porn mo \\ / ies ever - x...</td>\n",
       "    </tr>\n",
       "    <tr>\n",
       "      <th>9</th>\n",
       "      <td>financial_phrasebank</td>\n",
       "      <td>3</td>\n",
       "      <td>The MET is located in the Central Business Dis...</td>\n",
       "    </tr>\n",
       "    <tr>\n",
       "      <th>10</th>\n",
       "      <td>hyperpartisan_news_detection</td>\n",
       "      <td>2</td>\n",
       "      <td>South Korean official suggests inter-Korean pa...</td>\n",
       "    </tr>\n",
       "    <tr>\n",
       "      <th>11</th>\n",
       "      <td>AmazonScience/massive</td>\n",
       "      <td>18</td>\n",
       "      <td>get me a recipe</td>\n",
       "    </tr>\n",
       "    <tr>\n",
       "      <th>12</th>\n",
       "      <td>movie_rationales</td>\n",
       "      <td>2</td>\n",
       "      <td>casting \" doogie howser \" star neil patrick ha...</td>\n",
       "    </tr>\n",
       "    <tr>\n",
       "      <th>13</th>\n",
       "      <td>mteb/mtop_domain</td>\n",
       "      <td>11</td>\n",
       "      <td>Who sang No problem</td>\n",
       "    </tr>\n",
       "    <tr>\n",
       "      <th>14</th>\n",
       "      <td>rotten_tomatoes</td>\n",
       "      <td>2</td>\n",
       "      <td>i can imagine this movie as a b&amp;w british come...</td>\n",
       "    </tr>\n",
       "    <tr>\n",
       "      <th>15</th>\n",
       "      <td>silicone</td>\n",
       "      <td>4</td>\n",
       "      <td>what ’ s the life expectancy in your country ?</td>\n",
       "    </tr>\n",
       "    <tr>\n",
       "      <th>16</th>\n",
       "      <td>trec</td>\n",
       "      <td>6</td>\n",
       "      <td>What is the Islamic equivalent of the Red Cross ?</td>\n",
       "    </tr>\n",
       "    <tr>\n",
       "      <th>17</th>\n",
       "      <td>tweets_hate_speech_detection</td>\n",
       "      <td>2</td>\n",
       "      <td>#father's day to all the awesome fathers out t...</td>\n",
       "    </tr>\n",
       "    <tr>\n",
       "      <th>18</th>\n",
       "      <td>yahoo_answers_topics</td>\n",
       "      <td>10</td>\n",
       "      <td>in a battle between inuyasha &amp; naruto who woul...</td>\n",
       "    </tr>\n",
       "    <tr>\n",
       "      <th>19</th>\n",
       "      <td>yelp_review_full</td>\n",
       "      <td>5</td>\n",
       "      <td>My husband and I have been to Humble Pie a few...</td>\n",
       "    </tr>\n",
       "  </tbody>\n",
       "</table>\n",
       "</div>"
      ],
      "text/plain": [
       "                                        dataset  number of classes  \\\n",
       "0                                       ag_news                  4   \n",
       "1               SetFit/amazon_counterfactual_en                  2   \n",
       "2                                   app_reviews                  5   \n",
       "3   christinacdl/clickbait_notclickbait_dataset                  2   \n",
       "4                                 climate_fever                  4   \n",
       "5                    aladar/craigslist_bargains                  6   \n",
       "6                                           emo                  4   \n",
       "7                               dair-ai/emotion                  6   \n",
       "8                             SetFit/enron_spam                  2   \n",
       "9                          financial_phrasebank                  3   \n",
       "10                 hyperpartisan_news_detection                  2   \n",
       "11                        AmazonScience/massive                 18   \n",
       "12                             movie_rationales                  2   \n",
       "13                             mteb/mtop_domain                 11   \n",
       "14                              rotten_tomatoes                  2   \n",
       "15                                     silicone                  4   \n",
       "16                                         trec                  6   \n",
       "17                 tweets_hate_speech_detection                  2   \n",
       "18                         yahoo_answers_topics                 10   \n",
       "19                             yelp_review_full                  5   \n",
       "\n",
       "                                         example text  \n",
       "0   First class to the moon London - British airli...  \n",
       "1   I don't know why X-Mini doesn't update their p...  \n",
       "2                                             watshpp  \n",
       "3   France, Italy, UK sending military advisers to...  \n",
       "4   The peer-reviewed study by two scientists and ...  \n",
       "5   Buyer: That's too much for me can you go lower...  \n",
       "6           i hate everyone why so they talk about me  \n",
       "7   i feel increasingly energetic and comfortable ...  \n",
       "8   largest collection of porn mo \\ / ies ever - x...  \n",
       "9   The MET is located in the Central Business Dis...  \n",
       "10  South Korean official suggests inter-Korean pa...  \n",
       "11                                    get me a recipe  \n",
       "12  casting \" doogie howser \" star neil patrick ha...  \n",
       "13                                Who sang No problem  \n",
       "14  i can imagine this movie as a b&w british come...  \n",
       "15     what ’ s the life expectancy in your country ?  \n",
       "16  What is the Islamic equivalent of the Red Cross ?  \n",
       "17  #father's day to all the awesome fathers out t...  \n",
       "18  in a battle between inuyasha & naruto who woul...  \n",
       "19  My husband and I have been to Humble Pie a few...  "
      ]
     },
     "execution_count": 8,
     "metadata": {},
     "output_type": "execute_result"
    }
   ],
   "source": [
    "df"
   ]
  },
  {
   "cell_type": "code",
   "execution_count": 9,
   "metadata": {},
   "outputs": [
    {
     "data": {
      "text/plain": [
       "18"
      ]
     },
     "execution_count": 9,
     "metadata": {},
     "output_type": "execute_result"
    }
   ],
   "source": [
    "df[\"number of classes\"].max()"
   ]
  }
 ],
 "metadata": {
  "kernelspec": {
   "display_name": "pretrain",
   "language": "python",
   "name": "python3"
  },
  "language_info": {
   "codemirror_mode": {
    "name": "ipython",
    "version": 3
   },
   "file_extension": ".py",
   "mimetype": "text/x-python",
   "name": "python",
   "nbconvert_exporter": "python",
   "pygments_lexer": "ipython3",
   "version": "3.11.5"
  }
 },
 "nbformat": 4,
 "nbformat_minor": 2
}
