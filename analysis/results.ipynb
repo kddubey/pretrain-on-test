{
 "cells": [
  {
   "cell_type": "code",
   "execution_count": 1,
   "metadata": {},
   "outputs": [
    {
     "name": "stderr",
     "output_type": "stream",
     "text": [
      "WARNING (pytensor.tensor.blas): Using NumPy C-API based implementation for BLAS functions.\n"
     ]
    }
   ],
   "source": [
    "import polars as pl\n",
    "\n",
    "import utils"
   ]
  },
  {
   "cell_type": "code",
   "execution_count": 2,
   "metadata": {},
   "outputs": [],
   "source": [
    "num_tests: list[int] = [200, 500]\n",
    "accuracies_home_dir = \"accuracies_from_paper\""
   ]
  },
  {
   "cell_type": "code",
   "execution_count": 3,
   "metadata": {},
   "outputs": [],
   "source": [
    "dfs: list[pl.DataFrame] = []\n",
    "for num_test in num_tests:\n",
    "    df = utils.load_all_accuracies(accuracies_home_dir, num_test).with_columns(\n",
    "        num_test=pl.lit(num_test)\n",
    "    )\n",
    "    df = df.select(\"num_test\").with_columns(df.select(pl.exclude(\"num_test\")))\n",
    "    dfs.append(df)"
   ]
  },
  {
   "cell_type": "code",
   "execution_count": 4,
   "metadata": {},
   "outputs": [],
   "source": [
    "accuracy_df = pl.concat(dfs).sort([\"num_test\", \"lm_type\", \"dataset\"])"
   ]
  },
  {
   "cell_type": "code",
   "execution_count": 5,
   "metadata": {},
   "outputs": [
    {
     "data": {
      "text/html": [
       "<div><style>\n",
       ".dataframe > thead > tr,\n",
       ".dataframe > tbody > tr {\n",
       "  text-align: right;\n",
       "  white-space: pre-wrap;\n",
       "}\n",
       "</style>\n",
       "<small>shape: (4, 4)</small><table border=\"1\" class=\"dataframe\"><thead><tr><th>num_test</th><th>lm_type</th><th>mean</th><th>se</th></tr><tr><td>i32</td><td>str</td><td>f64</td><td>f64</td></tr></thead><tbody><tr><td>200</td><td>&quot;bert&quot;</td><td>0.040692</td><td>0.003457</td></tr><tr><td>200</td><td>&quot;gpt2&quot;</td><td>0.062892</td><td>0.003096</td></tr><tr><td>500</td><td>&quot;bert&quot;</td><td>0.061296</td><td>0.003077</td></tr><tr><td>500</td><td>&quot;gpt2&quot;</td><td>0.038868</td><td>0.002498</td></tr></tbody></table></div>"
      ],
      "text/plain": [
       "shape: (4, 4)\n",
       "┌──────────┬─────────┬──────────┬──────────┐\n",
       "│ num_test ┆ lm_type ┆ mean     ┆ se       │\n",
       "│ ---      ┆ ---     ┆ ---      ┆ ---      │\n",
       "│ i32      ┆ str     ┆ f64      ┆ f64      │\n",
       "╞══════════╪═════════╪══════════╪══════════╡\n",
       "│ 200      ┆ bert    ┆ 0.040692 ┆ 0.003457 │\n",
       "│ 200      ┆ gpt2    ┆ 0.062892 ┆ 0.003096 │\n",
       "│ 500      ┆ bert    ┆ 0.061296 ┆ 0.003077 │\n",
       "│ 500      ┆ gpt2    ┆ 0.038868 ┆ 0.002498 │\n",
       "└──────────┴─────────┴──────────┴──────────┘"
      ]
     },
     "execution_count": 5,
     "metadata": {},
     "output_type": "execute_result"
    }
   ],
   "source": [
    "utils._summarize_differences(\n",
    "    accuracy_df.with_columns(diff=pl.col(\"extra\") - pl.col(\"base\")),\n",
    "    groups=(\"num_test\", \"lm_type\"),\n",
    ")"
   ]
  },
  {
   "cell_type": "code",
   "execution_count": 6,
   "metadata": {},
   "outputs": [
    {
     "data": {
      "text/html": [
       "<div><style>\n",
       ".dataframe > thead > tr,\n",
       ".dataframe > tbody > tr {\n",
       "  text-align: right;\n",
       "  white-space: pre-wrap;\n",
       "}\n",
       "</style>\n",
       "<small>shape: (4, 4)</small><table border=\"1\" class=\"dataframe\"><thead><tr><th>num_test</th><th>lm_type</th><th>mean</th><th>se</th></tr><tr><td>i32</td><td>str</td><td>f64</td><td>f64</td></tr></thead><tbody><tr><td>200</td><td>&quot;bert&quot;</td><td>0.003264</td><td>0.004472</td></tr><tr><td>200</td><td>&quot;gpt2&quot;</td><td>-0.000112</td><td>0.001463</td></tr><tr><td>500</td><td>&quot;bert&quot;</td><td>-0.001592</td><td>0.004206</td></tr><tr><td>500</td><td>&quot;gpt2&quot;</td><td>-0.002076</td><td>0.001527</td></tr></tbody></table></div>"
      ],
      "text/plain": [
       "shape: (4, 4)\n",
       "┌──────────┬─────────┬───────────┬──────────┐\n",
       "│ num_test ┆ lm_type ┆ mean      ┆ se       │\n",
       "│ ---      ┆ ---     ┆ ---       ┆ ---      │\n",
       "│ i32      ┆ str     ┆ f64       ┆ f64      │\n",
       "╞══════════╪═════════╪═══════════╪══════════╡\n",
       "│ 200      ┆ bert    ┆ 0.003264  ┆ 0.004472 │\n",
       "│ 200      ┆ gpt2    ┆ -0.000112 ┆ 0.001463 │\n",
       "│ 500      ┆ bert    ┆ -0.001592 ┆ 0.004206 │\n",
       "│ 500      ┆ gpt2    ┆ -0.002076 ┆ 0.001527 │\n",
       "└──────────┴─────────┴───────────┴──────────┘"
      ]
     },
     "execution_count": 6,
     "metadata": {},
     "output_type": "execute_result"
    }
   ],
   "source": [
    "utils._summarize_differences(\n",
    "    accuracy_df.with_columns(diff=pl.col(\"test\") - pl.col(\"extra\")),\n",
    "    groups=(\"num_test\", \"lm_type\"),\n",
    ")"
   ]
  }
 ],
 "metadata": {
  "kernelspec": {
   "display_name": "pretrain",
   "language": "python",
   "name": "python3"
  },
  "language_info": {
   "codemirror_mode": {
    "name": "ipython",
    "version": 3
   },
   "file_extension": ".py",
   "mimetype": "text/x-python",
   "name": "python",
   "nbconvert_exporter": "python",
   "pygments_lexer": "ipython3",
   "version": "3.11.8"
  }
 },
 "nbformat": 4,
 "nbformat_minor": 2
}
