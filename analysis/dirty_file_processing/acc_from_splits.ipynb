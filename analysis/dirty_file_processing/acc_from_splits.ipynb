{
 "cells": [
  {
   "cell_type": "code",
   "execution_count": 1,
   "metadata": {},
   "outputs": [],
   "source": [
    "dataset = \"blog_authorship_corpus\"\n",
    "size = \"200\"\n",
    "model = \"bert\""
   ]
  },
  {
   "cell_type": "code",
   "execution_count": 2,
   "metadata": {},
   "outputs": [],
   "source": [
    "import os\n",
    "import shutil\n",
    "\n",
    "import pandas as pd\n",
    "from send2trash import send2trash"
   ]
  },
  {
   "cell_type": "code",
   "execution_count": 3,
   "metadata": {},
   "outputs": [],
   "source": [
    "zips_path = os.path.join(\n",
    "    os.path.expanduser(\"~\"),\n",
    "    \"Downloads\",\n",
    "    \"zips_split\",\n",
    "    size,\n",
    "    model,\n",
    "    dataset,\n",
    ")\n",
    "destination_path = os.path.join(\n",
    "    os.path.expanduser(\"~\"), \"Downloads\", f\"accuracies\", size, model, dataset\n",
    ")\n",
    "if not os.path.exists(destination_path):\n",
    "    os.makedirs(destination_path)"
   ]
  },
  {
   "cell_type": "code",
   "execution_count": 4,
   "metadata": {},
   "outputs": [],
   "source": [
    "final_zip_path = os.path.join(\n",
    "    os.path.expanduser(\"~\"), \"Downloads\", f\"zips\", size, model\n",
    ")\n",
    "if not os.path.exists(final_zip_path):\n",
    "    os.makedirs(final_zip_path)"
   ]
  },
  {
   "cell_type": "code",
   "execution_count": 5,
   "metadata": {},
   "outputs": [],
   "source": [
    "zip_idx = 1\n",
    "dfs = []\n",
    "\n",
    "for filename in sorted(os.listdir(zips_path)):\n",
    "    if filename.startswith(dataset) and filename.endswith(\".zip\"):\n",
    "        unzip_path = os.path.join(zips_path, f\"accuracies {zip_idx}\")\n",
    "        shutil.unpack_archive(os.path.join(zips_path, filename), unzip_path)\n",
    "        zip_idx += 1\n",
    "\n",
    "        results_path = os.path.join(unzip_path, \"accuracies\", dataset)\n",
    "        dfs.append(pd.read_csv(os.path.join(results_path, \"accuracies.csv\")))\n",
    "        # move subsample csvs\n",
    "        for filename in sorted(os.listdir(results_path)):\n",
    "            if filename.startswith(\"subsample_test_\") and filename.endswith(\".csv\"):\n",
    "                # print(\n",
    "                #     f\"Move {os.path.join(results_path, filename)} to \"\n",
    "                #     f\"{os.path.join(destination_path, filename)}\"\n",
    "                # )\n",
    "                shutil.move(\n",
    "                    os.path.join(results_path, filename),\n",
    "                    os.path.join(destination_path, filename),\n",
    "                )\n",
    "        send2trash(unzip_path)\n",
    "pd.concat(dfs).reset_index(drop=True).to_csv(\n",
    "    os.path.join(destination_path, \"accuracies.csv\"), index=False\n",
    ")"
   ]
  },
  {
   "cell_type": "code",
   "execution_count": 6,
   "metadata": {},
   "outputs": [
    {
     "data": {
      "text/plain": [
       "'/Users/kdubey/Downloads/zips/200/bert/blog_authorship_corpus.zip'"
      ]
     },
     "execution_count": 6,
     "metadata": {},
     "output_type": "execute_result"
    }
   ],
   "source": [
    "_zip = shutil.make_archive(f\"{dataset}\", \"zip\", root_dir=destination_path, base_dir=\"\")\n",
    "shutil.move(_zip, final_zip_path)"
   ]
  }
 ],
 "metadata": {
  "kernelspec": {
   "display_name": "pretrain",
   "language": "python",
   "name": "python3"
  },
  "language_info": {
   "codemirror_mode": {
    "name": "ipython",
    "version": 3
   },
   "file_extension": ".py",
   "mimetype": "text/x-python",
   "name": "python",
   "nbconvert_exporter": "python",
   "pygments_lexer": "ipython3",
   "version": "3.11.5"
  }
 },
 "nbformat": 4,
 "nbformat_minor": 2
}
