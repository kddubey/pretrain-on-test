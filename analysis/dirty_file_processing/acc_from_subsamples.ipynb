{
 "cells": [
  {
   "cell_type": "code",
   "execution_count": 1,
   "metadata": {},
   "outputs": [],
   "source": [
    "import os\n",
    "\n",
    "import pandas as pd"
   ]
  },
  {
   "cell_type": "code",
   "execution_count": 2,
   "metadata": {},
   "outputs": [],
   "source": [
    "records = []\n",
    "for filename in sorted(os.listdir(\".\")):\n",
    "    if not filename.startswith(\"subsample_test_\"):\n",
    "        continue\n",
    "    df = pd.read_csv(filename)\n",
    "    record = {\"majority\": df[\"label\"].value_counts(normalize=True).max()}\n",
    "    for split in [\"base\", \"extra\", \"test\"]:\n",
    "        columns = [column for column in df.columns if split in column]\n",
    "        preds = df[columns].to_numpy().argmax(axis=-1)\n",
    "        record[split] = (preds == df[\"label\"]).mean()\n",
    "    records.append(record)"
   ]
  },
  {
   "cell_type": "code",
   "execution_count": 3,
   "metadata": {},
   "outputs": [],
   "source": [
    "accuracy_df = pd.DataFrame(records)\n",
    "accuracy_df[\"majority_all\"] = 0.508\n",
    "accuracy_df[\"num_classes\"] = 2\n",
    "accuracy_df = accuracy_df[[\"base\", \"extra\", \"test\", \"majority\", \"num_classes\", \"majority_all\"]]\n",
    "accuracy_df.to_csv(\"accuracies.csv\", index=False)"
   ]
  }
 ],
 "metadata": {
  "kernelspec": {
   "display_name": "base",
   "language": "python",
   "name": "python3"
  },
  "language_info": {
   "codemirror_mode": {
    "name": "ipython",
    "version": 3
   },
   "file_extension": ".py",
   "mimetype": "text/x-python",
   "name": "python",
   "nbconvert_exporter": "python",
   "pygments_lexer": "ipython3",
   "version": "3.11.5"
  }
 },
 "nbformat": 4,
 "nbformat_minor": 2
}
