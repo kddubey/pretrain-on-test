{
 "cells": [
  {
   "cell_type": "markdown",
   "metadata": {},
   "source": [
    "**Description**: Brief descriptions of the classification tasks used in this experiment.\n",
    "\n",
    "**Estimated runtime**: ~10 min b/c it has to locally download datasets, ~5 min if you've\n",
    "already downloaded them"
   ]
  },
  {
   "cell_type": "code",
   "execution_count": 1,
   "metadata": {},
   "outputs": [],
   "source": [
    "from typing import get_args\n",
    "\n",
    "from IPython.display import clear_output\n",
    "import pandas as pd\n",
    "from tqdm.auto import tqdm\n",
    "\n",
    "from pretrain_on_test import load_classification_data_from_hf, HuggingFaceDatasetNames"
   ]
  },
  {
   "cell_type": "code",
   "execution_count": 2,
   "metadata": {},
   "outputs": [],
   "source": [
    "hf_dataset_names: tuple[str] = get_args(HuggingFaceDatasetNames)"
   ]
  },
  {
   "cell_type": "code",
   "execution_count": 3,
   "metadata": {},
   "outputs": [
    {
     "data": {
      "text/plain": [
       "20"
      ]
     },
     "execution_count": 3,
     "metadata": {},
     "output_type": "execute_result"
    }
   ],
   "source": [
    "len(hf_dataset_names)"
   ]
  },
  {
   "cell_type": "code",
   "execution_count": 4,
   "metadata": {},
   "outputs": [],
   "source": [
    "def describe(df: pd.DataFrame, random_state: int | None = None):\n",
    "    random_obs = df.sample(n=1, random_state=random_state)\n",
    "    return {\n",
    "        \"lengths\": df[\"text\"].str.len(),\n",
    "        \"num_classes\": len(df[\"label\"].unique()),\n",
    "        \"example\": {\n",
    "            \"text\": random_obs[\"text\"].iloc[0],\n",
    "            \"label\": random_obs[\"label\"].iloc[0],\n",
    "        },\n",
    "    }"
   ]
  },
  {
   "cell_type": "code",
   "execution_count": 5,
   "metadata": {},
   "outputs": [
    {
     "name": "stdout",
     "output_type": "stream",
     "text": [
      " 95%|█████████▌| 19/20 [03:33<00:28, 28.40s/it]\n"
     ]
    }
   ],
   "source": [
    "descriptions = []\n",
    "_progress_bar = tqdm(enumerate(hf_dataset_names), total=len(hf_dataset_names))\n",
    "for i, dataset in _progress_bar:\n",
    "    clear_output(wait=True)\n",
    "    print(_progress_bar)\n",
    "    descriptions.append(\n",
    "        describe(load_classification_data_from_hf(dataset), random_state=i)\n",
    "    )"
   ]
  },
  {
   "cell_type": "code",
   "execution_count": 6,
   "metadata": {},
   "outputs": [],
   "source": [
    "max_text_length_displayed = 30\n",
    "records = []\n",
    "for dataset, description in zip(hf_dataset_names, descriptions):\n",
    "    dataset_link = f\"https://huggingface.co/datasets/{dataset}\"\n",
    "    dataset_tex = \"\\\\texttt{\" + dataset.replace(\"_\", \"\\_\") + \"}\"\n",
    "    records.append(\n",
    "        {\n",
    "            \"HuggingFace dataset\": f\"\\\\href{{{dataset_link}}}{{{dataset_tex}}}\",\n",
    "            \"Number of classes\": description[\"num_classes\"],\n",
    "            \"Text length (25, 75) percentiles\": tuple(\n",
    "                description[\"lengths\"].describe()[[\"25%\", \"75%\"]].astype(int).values\n",
    "            ),\n",
    "            \"Example text (truncated)\": description[\"example\"][\"text\"][:max_text_length_displayed],\n",
    "        }\n",
    "    )"
   ]
  },
  {
   "cell_type": "code",
   "execution_count": 7,
   "metadata": {},
   "outputs": [],
   "source": [
    "df = pd.DataFrame(records)"
   ]
  },
  {
   "cell_type": "code",
   "execution_count": 8,
   "metadata": {},
   "outputs": [
    {
     "data": {
      "text/html": [
       "<div>\n",
       "<style scoped>\n",
       "    .dataframe tbody tr th:only-of-type {\n",
       "        vertical-align: middle;\n",
       "    }\n",
       "\n",
       "    .dataframe tbody tr th {\n",
       "        vertical-align: top;\n",
       "    }\n",
       "\n",
       "    .dataframe thead th {\n",
       "        text-align: right;\n",
       "    }\n",
       "</style>\n",
       "<table border=\"1\" class=\"dataframe\">\n",
       "  <thead>\n",
       "    <tr style=\"text-align: right;\">\n",
       "      <th></th>\n",
       "      <th>HuggingFace dataset</th>\n",
       "      <th>Number of classes</th>\n",
       "      <th>Text length (25, 75) percentiles</th>\n",
       "      <th>Example text (truncated)</th>\n",
       "    </tr>\n",
       "  </thead>\n",
       "  <tbody>\n",
       "    <tr>\n",
       "      <th>0</th>\n",
       "      <td>\\href{https://huggingface.co/datasets/ag_news}...</td>\n",
       "      <td>4</td>\n",
       "      <td>(196, 266)</td>\n",
       "      <td>First class to the moon London</td>\n",
       "    </tr>\n",
       "    <tr>\n",
       "      <th>1</th>\n",
       "      <td>\\href{https://huggingface.co/datasets/SetFit/a...</td>\n",
       "      <td>2</td>\n",
       "      <td>(60, 125)</td>\n",
       "      <td>I don't know why X-Mini doesn'</td>\n",
       "    </tr>\n",
       "    <tr>\n",
       "      <th>2</th>\n",
       "      <td>\\href{https://huggingface.co/datasets/app_revi...</td>\n",
       "      <td>5</td>\n",
       "      <td>(10, 77)</td>\n",
       "      <td>watshpp</td>\n",
       "    </tr>\n",
       "    <tr>\n",
       "      <th>3</th>\n",
       "      <td>\\href{https://huggingface.co/datasets/christin...</td>\n",
       "      <td>2</td>\n",
       "      <td>(46, 69)</td>\n",
       "      <td>France, Italy, UK sending mili</td>\n",
       "    </tr>\n",
       "    <tr>\n",
       "      <th>4</th>\n",
       "      <td>\\href{https://huggingface.co/datasets/climate_...</td>\n",
       "      <td>4</td>\n",
       "      <td>(80, 156)</td>\n",
       "      <td>The peer-reviewed study by two</td>\n",
       "    </tr>\n",
       "    <tr>\n",
       "      <th>5</th>\n",
       "      <td>\\href{https://huggingface.co/datasets/aladar/c...</td>\n",
       "      <td>6</td>\n",
       "      <td>(346, 713)</td>\n",
       "      <td>Buyer: That's too much for me</td>\n",
       "    </tr>\n",
       "    <tr>\n",
       "      <th>6</th>\n",
       "      <td>\\href{https://huggingface.co/datasets/emo}{\\te...</td>\n",
       "      <td>4</td>\n",
       "      <td>(44, 83)</td>\n",
       "      <td>i hate everyone why so they ta</td>\n",
       "    </tr>\n",
       "    <tr>\n",
       "      <th>7</th>\n",
       "      <td>\\href{https://huggingface.co/datasets/dair-ai/...</td>\n",
       "      <td>6</td>\n",
       "      <td>(53, 129)</td>\n",
       "      <td>i feel increasingly energetic</td>\n",
       "    </tr>\n",
       "    <tr>\n",
       "      <th>8</th>\n",
       "      <td>\\href{https://huggingface.co/datasets/SetFit/e...</td>\n",
       "      <td>2</td>\n",
       "      <td>(342, 1553)</td>\n",
       "      <td>largest collection of porn mo</td>\n",
       "    </tr>\n",
       "    <tr>\n",
       "      <th>9</th>\n",
       "      <td>\\href{https://huggingface.co/datasets/financia...</td>\n",
       "      <td>3</td>\n",
       "      <td>(79, 157)</td>\n",
       "      <td>The MET is located in the Cent</td>\n",
       "    </tr>\n",
       "    <tr>\n",
       "      <th>10</th>\n",
       "      <td>\\href{https://huggingface.co/datasets/hyperpar...</td>\n",
       "      <td>2</td>\n",
       "      <td>(39, 63)</td>\n",
       "      <td>South Korean official suggests</td>\n",
       "    </tr>\n",
       "    <tr>\n",
       "      <th>11</th>\n",
       "      <td>\\href{https://huggingface.co/datasets/AmazonSc...</td>\n",
       "      <td>18</td>\n",
       "      <td>(24, 44)</td>\n",
       "      <td>get me a recipe</td>\n",
       "    </tr>\n",
       "    <tr>\n",
       "      <th>12</th>\n",
       "      <td>\\href{https://huggingface.co/datasets/movie_ra...</td>\n",
       "      <td>2</td>\n",
       "      <td>(2721, 4659)</td>\n",
       "      <td>casting \" doogie howser \" star</td>\n",
       "    </tr>\n",
       "    <tr>\n",
       "      <th>13</th>\n",
       "      <td>\\href{https://huggingface.co/datasets/mteb/mto...</td>\n",
       "      <td>11</td>\n",
       "      <td>(26, 44)</td>\n",
       "      <td>Who sang No problem</td>\n",
       "    </tr>\n",
       "    <tr>\n",
       "      <th>14</th>\n",
       "      <td>\\href{https://huggingface.co/datasets/rotten_t...</td>\n",
       "      <td>2</td>\n",
       "      <td>(76, 149)</td>\n",
       "      <td>i can imagine this movie as a</td>\n",
       "    </tr>\n",
       "    <tr>\n",
       "      <th>15</th>\n",
       "      <td>\\href{https://huggingface.co/datasets/silicone...</td>\n",
       "      <td>4</td>\n",
       "      <td>(29, 75)</td>\n",
       "      <td>what ’ s the life expectancy i</td>\n",
       "    </tr>\n",
       "    <tr>\n",
       "      <th>16</th>\n",
       "      <td>\\href{https://huggingface.co/datasets/trec}{\\t...</td>\n",
       "      <td>6</td>\n",
       "      <td>(36, 61)</td>\n",
       "      <td>What is the Islamic equivalent</td>\n",
       "    </tr>\n",
       "    <tr>\n",
       "      <th>17</th>\n",
       "      <td>\\href{https://huggingface.co/datasets/tweets_h...</td>\n",
       "      <td>2</td>\n",
       "      <td>(62, 107)</td>\n",
       "      <td>#father's day to all the aweso</td>\n",
       "    </tr>\n",
       "    <tr>\n",
       "      <th>18</th>\n",
       "      <td>\\href{https://huggingface.co/datasets/yahoo_an...</td>\n",
       "      <td>10</td>\n",
       "      <td>(58, 213)</td>\n",
       "      <td>in a battle between inuyasha &amp;</td>\n",
       "    </tr>\n",
       "    <tr>\n",
       "      <th>19</th>\n",
       "      <td>\\href{https://huggingface.co/datasets/yelp_rev...</td>\n",
       "      <td>5</td>\n",
       "      <td>(287, 957)</td>\n",
       "      <td>My husband and I have been to</td>\n",
       "    </tr>\n",
       "  </tbody>\n",
       "</table>\n",
       "</div>"
      ],
      "text/plain": [
       "                                  HuggingFace dataset  Number of classes  \\\n",
       "0   \\href{https://huggingface.co/datasets/ag_news}...                  4   \n",
       "1   \\href{https://huggingface.co/datasets/SetFit/a...                  2   \n",
       "2   \\href{https://huggingface.co/datasets/app_revi...                  5   \n",
       "3   \\href{https://huggingface.co/datasets/christin...                  2   \n",
       "4   \\href{https://huggingface.co/datasets/climate_...                  4   \n",
       "5   \\href{https://huggingface.co/datasets/aladar/c...                  6   \n",
       "6   \\href{https://huggingface.co/datasets/emo}{\\te...                  4   \n",
       "7   \\href{https://huggingface.co/datasets/dair-ai/...                  6   \n",
       "8   \\href{https://huggingface.co/datasets/SetFit/e...                  2   \n",
       "9   \\href{https://huggingface.co/datasets/financia...                  3   \n",
       "10  \\href{https://huggingface.co/datasets/hyperpar...                  2   \n",
       "11  \\href{https://huggingface.co/datasets/AmazonSc...                 18   \n",
       "12  \\href{https://huggingface.co/datasets/movie_ra...                  2   \n",
       "13  \\href{https://huggingface.co/datasets/mteb/mto...                 11   \n",
       "14  \\href{https://huggingface.co/datasets/rotten_t...                  2   \n",
       "15  \\href{https://huggingface.co/datasets/silicone...                  4   \n",
       "16  \\href{https://huggingface.co/datasets/trec}{\\t...                  6   \n",
       "17  \\href{https://huggingface.co/datasets/tweets_h...                  2   \n",
       "18  \\href{https://huggingface.co/datasets/yahoo_an...                 10   \n",
       "19  \\href{https://huggingface.co/datasets/yelp_rev...                  5   \n",
       "\n",
       "   Text length (25, 75) percentiles        Example text (truncated)  \n",
       "0                        (196, 266)  First class to the moon London  \n",
       "1                         (60, 125)  I don't know why X-Mini doesn'  \n",
       "2                          (10, 77)                         watshpp  \n",
       "3                          (46, 69)  France, Italy, UK sending mili  \n",
       "4                         (80, 156)  The peer-reviewed study by two  \n",
       "5                        (346, 713)  Buyer: That's too much for me   \n",
       "6                          (44, 83)  i hate everyone why so they ta  \n",
       "7                         (53, 129)  i feel increasingly energetic   \n",
       "8                       (342, 1553)  largest collection of porn mo   \n",
       "9                         (79, 157)  The MET is located in the Cent  \n",
       "10                         (39, 63)  South Korean official suggests  \n",
       "11                         (24, 44)                 get me a recipe  \n",
       "12                     (2721, 4659)  casting \" doogie howser \" star  \n",
       "13                         (26, 44)             Who sang No problem  \n",
       "14                        (76, 149)  i can imagine this movie as a   \n",
       "15                         (29, 75)  what ’ s the life expectancy i  \n",
       "16                         (36, 61)  What is the Islamic equivalent  \n",
       "17                        (62, 107)  #father's day to all the aweso  \n",
       "18                        (58, 213)  in a battle between inuyasha &  \n",
       "19                       (287, 957)  My husband and I have been to   "
      ]
     },
     "execution_count": 8,
     "metadata": {},
     "output_type": "execute_result"
    }
   ],
   "source": [
    "df"
   ]
  },
  {
   "cell_type": "code",
   "execution_count": 9,
   "metadata": {},
   "outputs": [
    {
     "name": "stdout",
     "output_type": "stream",
     "text": [
      "\\href{https://huggingface.co/datasets/ag_news}{\\texttt{ag\\_news}}\n"
     ]
    }
   ],
   "source": [
    "print(df[\"HuggingFace dataset\"].iloc[0])"
   ]
  },
  {
   "cell_type": "code",
   "execution_count": 10,
   "metadata": {},
   "outputs": [
    {
     "data": {
      "text/plain": [
       "18"
      ]
     },
     "execution_count": 10,
     "metadata": {},
     "output_type": "execute_result"
    }
   ],
   "source": [
    "df[\"Number of classes\"].max()"
   ]
  },
  {
   "cell_type": "code",
   "execution_count": 11,
   "metadata": {},
   "outputs": [],
   "source": [
    "# df.to_csv(\"dataset_descriptions.csv\", index=False)"
   ]
  }
 ],
 "metadata": {
  "kernelspec": {
   "display_name": "pretrain",
   "language": "python",
   "name": "python3"
  },
  "language_info": {
   "codemirror_mode": {
    "name": "ipython",
    "version": 3
   },
   "file_extension": ".py",
   "mimetype": "text/x-python",
   "name": "python",
   "nbconvert_exporter": "python",
   "pygments_lexer": "ipython3",
   "version": "3.11.5"
  }
 },
 "nbformat": 4,
 "nbformat_minor": 2
}
