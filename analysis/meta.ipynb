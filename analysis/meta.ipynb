{
 "cells": [
  {
   "cell_type": "markdown",
   "metadata": {},
   "source": [
    "**Description**: Demonstrates that subsampling / replicating within each dataset is\n",
    "important. Data comes from running\n",
    "[`meta.py`](https://github.com/kddubey/pretrain-on-test/blob/main/analysis/meta.py).\n",
    "(`cd` to `analysis` before running `python meta.py`.)\n",
    "\n",
    "**Estimated runtime**: ~5 sec."
   ]
  },
  {
   "cell_type": "code",
   "execution_count": 1,
   "metadata": {},
   "outputs": [
    {
     "name": "stderr",
     "output_type": "stream",
     "text": [
      "WARNING (pytensor.tensor.blas): Using NumPy C-API based implementation for BLAS functions.\n"
     ]
    }
   ],
   "source": [
    "from typing import Literal\n",
    "\n",
    "import numpy as np\n",
    "import polars as pl\n",
    "import seaborn as sns\n",
    "\n",
    "import matplotlib.pyplot as plt\n",
    "\n",
    "import utils"
   ]
  },
  {
   "cell_type": "code",
   "execution_count": 2,
   "metadata": {},
   "outputs": [],
   "source": [
    "sns.set_theme(style=\"darkgrid\")"
   ]
  },
  {
   "cell_type": "code",
   "execution_count": 3,
   "metadata": {},
   "outputs": [],
   "source": [
    "num_test: Literal[200, 500] = 500\n",
    "treatment, control = \"test\", \"extra\"\n",
    "desc = \"evaluation bias\"\n",
    "color = \"orange\""
   ]
  },
  {
   "cell_type": "code",
   "execution_count": 4,
   "metadata": {},
   "outputs": [
    {
     "data": {
      "text/plain": [
       "1000"
      ]
     },
     "execution_count": 4,
     "metadata": {},
     "output_type": "execute_result"
    }
   ],
   "source": [
    "df = pl.read_csv(f\"meta_{num_test}_treatment.csv\")\n",
    "len(df)  # num simulated datasets"
   ]
  },
  {
   "cell_type": "markdown",
   "metadata": {},
   "source": [
    "For the coin flip analogy:"
   ]
  },
  {
   "cell_type": "code",
   "execution_count": 5,
   "metadata": {},
   "outputs": [
    {
     "data": {
      "text/plain": [
       "0.445"
      ]
     },
     "execution_count": 5,
     "metadata": {},
     "output_type": "execute_result"
    }
   ],
   "source": [
    "magic_number = 0.04\n",
    "df.select(\n",
    "    (pl.col(\"mean\") < -magic_number).or_(pl.col(\"mean\") > magic_number)\n",
    ").mean().item()"
   ]
  },
  {
   "cell_type": "markdown",
   "metadata": {},
   "source": [
    "Yeah yeah the `magic_number` can be binary searched"
   ]
  },
  {
   "cell_type": "markdown",
   "metadata": {},
   "source": [
    "What percent of these are big differences have their 89% credible interval on one side\n",
    "or the other?"
   ]
  },
  {
   "cell_type": "code",
   "execution_count": 6,
   "metadata": {},
   "outputs": [
    {
     "data": {
      "text/plain": [
       "1.0"
      ]
     },
     "execution_count": 6,
     "metadata": {},
     "output_type": "execute_result"
    }
   ],
   "source": [
    "df.filter((pl.col(\"mean\") < -magic_number).or_(pl.col(\"mean\") > magic_number)).select(\n",
    "    (pl.col(\"hdi_5.5%\") > 0).xor(pl.col(\"hdi_94.5%\") > 0).not_()\n",
    ").mean().item()"
   ]
  },
  {
   "cell_type": "markdown",
   "metadata": {},
   "source": [
    "Perhaps it's more fair to say that roughly a quarter of findings would be significant\n",
    "one way or the other. But I want the coin flip line :-]"
   ]
  },
  {
   "cell_type": "code",
   "execution_count": 7,
   "metadata": {},
   "outputs": [],
   "source": [
    "title = (\n",
    "    f\"$\\\\mathbf{{No\\:technical\\:replication}}$, \"\n",
    "    f\"$n={num_test}$, {desc}\"\n",
    "    # f\"({utils.diffco_texa(treatment, control)})\"\n",
    ")"
   ]
  },
  {
   "cell_type": "code",
   "execution_count": 8,
   "metadata": {},
   "outputs": [],
   "source": [
    "# plt.hist(df[\"mean\"], bins=20, color=color)\n",
    "# plt.title(title)\n",
    "# plt.xlabel(f\"posterior mean of $\\\\beta$\")\n",
    "# plt.ylabel(\"frequency\");"
   ]
  },
  {
   "cell_type": "code",
   "execution_count": 9,
   "metadata": {},
   "outputs": [],
   "source": [
    "# plt.plot(df[\"mean\"].sort(), np.arange(1, len(df) + 1) / len(df), color=color)\n",
    "# plt.title(title)\n",
    "# plt.xlabel(f\"posterior mean of $\\\\beta$\")\n",
    "# plt.ylabel(\"cumulative proportion\");"
   ]
  },
  {
   "cell_type": "code",
   "execution_count": 10,
   "metadata": {},
   "outputs": [],
   "source": [
    "means_sorted = df[\"mean\"].sort().to_numpy()\n",
    "y1, y2 = np.searchsorted(means_sorted, [-magic_number, magic_number]) / len(df)"
   ]
  },
  {
   "cell_type": "code",
   "execution_count": 11,
   "metadata": {},
   "outputs": [],
   "source": [
    "xlim = (round(means_sorted[0], 2), round(means_sorted[-1], 2))"
   ]
  },
  {
   "cell_type": "markdown",
   "metadata": {},
   "source": [
    "I want a CDF b/c it makes it easier to answer fun meta questions of the form: what's the\n",
    "probability that we would've concluded < this wacky result > had we not subsampled?"
   ]
  },
  {
   "cell_type": "code",
   "execution_count": 12,
   "metadata": {},
   "outputs": [
    {
     "data": {
      "image/png": "[encoded data removed]",
      "text/plain": [
       "<Figure size 640x480 with 1 Axes>"
      ]
     },
     "metadata": {},
     "output_type": "display_data"
    }
   ],
   "source": [
    "ax = sns.ecdfplot(df[\"mean\"], color=color)\n",
    "ax.set_xlim(xlim)\n",
    "ax.set_xticks([xlim[0], -magic_number, 0, magic_number, xlim[1]])\n",
    "_ = ax.set_title(title)\n",
    "_ = ax.set_xlabel(f\"posterior mean of $\\\\beta$\")\n",
    "_ = ax.set_ylabel(\"cumulative proportion\")\n",
    "\n",
    "# ty https://stackoverflow.com/a/47645844/18758987\n",
    "_ = ax.fill_between(\n",
    "    ax.lines[0].get_xydata()[:, 0],\n",
    "    ax.lines[0].get_xydata()[:, 1],\n",
    "    color=color,\n",
    "    alpha=0.3,\n",
    ")\n",
    "\n",
    "ax.vlines(-magic_number, 0, y1, linestyle=\"dashed\", color=\"gray\")\n",
    "ax.hlines(y1, xlim[0], -magic_number, linestyle=\"dashed\", color=\"gray\")\n",
    "\n",
    "ax.vlines(magic_number, 0, y2, linestyle=\"dashed\", color=\"gray\")\n",
    "ax.hlines(y2, xlim[0], magic_number, linestyle=\"dashed\", color=\"gray\");"
   ]
  }
 ],
 "metadata": {
  "kernelspec": {
   "display_name": "pretrain",
   "language": "python",
   "name": "python3"
  },
  "language_info": {
   "codemirror_mode": {
    "name": "ipython",
    "version": 3
   },
   "file_extension": ".py",
   "mimetype": "text/x-python",
   "name": "python",
   "nbconvert_exporter": "python",
   "pygments_lexer": "ipython3",
   "version": "3.11.5"
  }
 },
 "nbformat": 4,
 "nbformat_minor": 2
}
