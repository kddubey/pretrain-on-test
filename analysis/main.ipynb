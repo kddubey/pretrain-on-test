{
  "cells": [
    {
      "cell_type": "markdown",
      "metadata": {},
      "source": [
        "**Description**: Analyzes BERT *and* GPT-2 accuracies for a given number of test\n",
        "observations (200 or 500). Currently just 1 chain. Need to increase that, but it's too\n",
        "slow :-(\n",
        "\n",
        "**Estimated runtime**: ~1 hour (Multi-core isn't working on my machine. Set\n",
        "`cores=4` in the `model.fit` call if it works for you.)"
      ]
    },
    {
      "cell_type": "markdown",
      "metadata": {},
      "source": [
        "Note: I'm still learning how to do this type of analysis."
      ]
    },
    {
      "cell_type": "code",
      "execution_count": null,
      "metadata": {
        "id": "JJBZkhd2fwnA"
      },
      "outputs": [],
      "source": [
        "import os\n",
        "from typing import Literal\n",
        "\n",
        "import polars as pl\n",
        "import seaborn as sns\n",
        "\n",
        "import utils"
      ]
    },
    {
      "cell_type": "code",
      "execution_count": null,
      "metadata": {
        "id": "riORkp7jfwnD"
      },
      "outputs": [],
      "source": [
        "sns.set_theme(style=\"darkgrid\")"
      ]
    },
    {
      "cell_type": "markdown",
      "metadata": {},
      "source": [
        "# Configuration"
      ]
    },
    {
      "cell_type": "markdown",
      "metadata": {},
      "source": [
        "Which number of test observations do you want to analyze?"
      ]
    },
    {
      "cell_type": "code",
      "execution_count": null,
      "metadata": {},
      "outputs": [],
      "source": [
        "num_test: Literal[200, 500] = 500"
      ]
    },
    {
      "cell_type": "markdown",
      "metadata": {
        "id": "S0dLa7_-fwnE"
      },
      "source": [
        "# Load data"
      ]
    },
    {
      "cell_type": "code",
      "execution_count": null,
      "metadata": {},
      "outputs": [],
      "source": [
        "def load(accuracies_home_dir: str = \"accuracies_from_paper\", num_test: int = num_test):\n",
        "    dfs: list[pl.DataFrame] = []\n",
        "    for model in utils.lm_type_to_name.keys():\n",
        "        accuracies_dir = os.path.join(accuracies_home_dir, str(num_test), model)\n",
        "        df = utils.load_num_correct(accuracies_dir, num_test).with_columns(\n",
        "            model=pl.lit(model)\n",
        "        )\n",
        "        df = df.select(\"model\").with_columns(df.select(pl.exclude(\"model\")))\n",
        "        dfs.append(df)\n",
        "    return pl.concat(dfs)"
      ]
    },
    {
      "cell_type": "code",
      "execution_count": null,
      "metadata": {},
      "outputs": [],
      "source": [
        "num_correct_df = load()"
      ]
    },
    {
      "cell_type": "code",
      "execution_count": null,
      "metadata": {},
      "outputs": [],
      "source": [
        "equation = \"num_correct ~ method + (1|model) + (1|dataset/pair)\"\n",
        "id_vars = [\"pair\", \"model\", \"dataset\"]"
      ]
    },
    {
      "cell_type": "code",
      "execution_count": null,
      "metadata": {
        "colab": {
          "base_uri": "https://localhost:8080/",
          "height": 441
        },
        "id": "XyHkI8f4fwnH",
        "outputId": "92f0bf63-5bad-47a9-88ed-6f3fc13e415d"
      },
      "outputs": [],
      "source": [
        "model_control, summary_control, az_summary_control = utils.stat_model(\n",
        "    num_correct_df,\n",
        "    treatment=\"extra\",\n",
        "    control=\"base\",\n",
        "    equation=equation,\n",
        "    id_vars=id_vars,\n",
        ")"
      ]
    },
    {
      "cell_type": "code",
      "execution_count": null,
      "metadata": {
        "colab": {
          "base_uri": "https://localhost:8080/"
        },
        "id": "ZPEfHfLyfwnH",
        "outputId": "d3e91780-2f19-422a-b345-144413a6ab7c"
      },
      "outputs": [],
      "source": [
        "print(model_control)"
      ]
    },
    {
      "cell_type": "code",
      "execution_count": null,
      "metadata": {
        "colab": {
          "base_uri": "https://localhost:8080/",
          "height": 406
        },
        "id": "HtuVjGWGfwnI",
        "outputId": "c10280e5-dc0b-4d45-b38c-e24fa95b1ab6"
      },
      "outputs": [],
      "source": [
        "model_bias, summary_bias, az_summary_bias = utils.stat_model(\n",
        "    num_correct_df,\n",
        "    treatment=\"test\",\n",
        "    control=\"extra\",\n",
        "    equation=equation,\n",
        "    id_vars=id_vars,\n",
        ")"
      ]
    },
    {
      "cell_type": "code",
      "execution_count": null,
      "metadata": {
        "colab": {
          "base_uri": "https://localhost:8080/"
        },
        "id": "-Yxv4zSyfwnJ",
        "outputId": "806817a5-be54-4758-ef69-e64068a2ccd4"
      },
      "outputs": [],
      "source": [
        "print(model_bias)"
      ]
    }
  ],
  "metadata": {
    "accelerator": "GPU",
    "colab": {
      "gpuType": "T4",
      "provenance": []
    },
    "kernelspec": {
      "display_name": "Python 3",
      "name": "python3"
    },
    "language_info": {
      "codemirror_mode": {
        "name": "ipython",
        "version": 3
      },
      "file_extension": ".py",
      "mimetype": "text/x-python",
      "name": "python",
      "nbconvert_exporter": "python",
      "pygments_lexer": "ipython3",
      "version": "3.11.5"
    }
  },
  "nbformat": 4,
  "nbformat_minor": 0
}
