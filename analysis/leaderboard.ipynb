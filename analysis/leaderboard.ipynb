{
 "cells": [
  {
   "cell_type": "markdown",
   "metadata": {},
   "source": [
    "**Description**: Crunch numbers about gaps b/t adjacent submissions in the RAFT\n",
    "leaderboard to put accuracy differences in context.\n",
    "\n",
    "**Estimated runtime**: 1 sec."
   ]
  },
  {
   "cell_type": "code",
   "execution_count": 1,
   "metadata": {},
   "outputs": [],
   "source": [
    "import io\n",
    "\n",
    "import polars as pl"
   ]
  },
  {
   "cell_type": "markdown",
   "metadata": {},
   "source": [
    "copy-pasted from https://huggingface.co/spaces/ought/raft-leaderboard"
   ]
  },
  {
   "cell_type": "code",
   "execution_count": 2,
   "metadata": {},
   "outputs": [],
   "source": [
    "tsv = r\"\"\"Rank\tSubmitter\tSubmission Name\tSubmission Date\tOverall\tAde Corpus V2\tBanking 77\tNeurips Impact Statement Risks\tOne Stop English\tOverruling\tSemiconductor Org Types\tSystematic Review Inclusion\tTai Safety Research\tTerms Of Service\tTweet Eval Hate\tTwitter Complaints\n",
    "1\ttedbagel\tmiles\tNov 18, 2023\t0.773\t0.813\t0.776\t0.812\t0.7450.944\t0.935\t0.508\t0.722\t0.751\t0.614\t0.887\n",
    "2\tRaldir\tAuT-Few (H)\tNov 19, 2022\t0.773\t0.837\t0.647\t0.780\t0.8470.942\t0.917\t0.687\t0.703\t0.728\t0.517\t0.892\n",
    "3\tAaronLi\tyiwise\tJul 08, 2022\t0.768\t0.856\t0.695\t0.839\t0.698\t0.9440.906\t0.493\t0.737\t0.749\t0.647\t0.883\n",
    "4\tjtmohta\tT-Few\tMay 06, 2022\t0.758\t0.804\t0.695\t0.833\t0.676\t0.9500.915\t0.508\t0.736\t0.750\t0.586\t0.879\n",
    "5\tRaldir\tAuT-Few\tDec 17, 2022\t0.747\t0.846\t0.587\t0.898\t0.770\t0.9630.801\t0.620\t0.742\t0.738\t0.350\t0.901\n",
    "6\tOE-Heart\tyiwise\tJun 13, 2022\t0.738\t0.793\t0.636\t0.833\t0.6430.948\t0.907\t0.509\t0.693\t0.725\t0.545\t0.886\n",
    "7\tannagon\tada_t\tFeb 04, 2023\t0.736\t0.838\t0.639\t0.819\t0.787\t0.9390.853\t0.493\t0.688\t0.712\t0.464\t0.862\n",
    "8\tought\tHuman baseline (crowdsourced)\tAug 27, 2021\t0.735\t0.830\t0.6070.857\t0.646\t0.917\t0.908\t0.468\t0.609\t0.627\t0.722\t0.897\n",
    "9\talon-albalak\tEXP3-FLAD-3B-Ensemble\tMar 22, 2023\t0.735\t0.789\t0.6780.864\t0.533\t0.937\t0.907\t0.493\t0.685\t0.748\t0.584\t0.869\n",
    "10\tAaronLi\tyiwise\tJun 26, 2022\t0.733\t0.856\t0.464\t0.839\t0.544\t0.9440.906\t0.493\t0.737\t0.749\t0.647\t0.878\n",
    "11\talon-albalak\tUCB1-FLAD-3B-Ensemble\tMar 22, 2023\t0.732\t0.796\t0.7010.879\t0.514\t0.940\t0.900\t0.493\t0.689\t0.760\t0.510\t0.871\n",
    "12\talon-albalak\tEXP3-FLAD-3B\tMar 28, 2023\t0.729\t0.762\t0.623\t0.8500.618\t0.936\t0.863\t0.493\t0.687\t0.691\t0.633\t0.861\n",
    "13\tjogonba2\tiatp\tFeb 04, 2023\t0.724\t0.835\t0.662\t0.826\t0.6600.940\t0.853\t0.493\t0.697\t0.697\t0.444\t0.862\n",
    "14\talon-albalak\tEXP3-FLAD-3B\tApr 30, 2023\t0.721\t0.738\t0.542\t0.8910.643\t0.940\t0.828\t0.493\t0.700\t0.709\t0.580\t0.871\n",
    "15\tmoshew\tSetFit300\tJul 16, 2022\t0.713\t0.799\t0.632\t0.859\t0.7600.930\t0.769\t0.503\t0.664\t0.604\t0.487\t0.831\n",
    "16\tJeanneRbs\tIAL-602-v2\tAug 19, 2022\t0.709\t0.814\t0.571\t0.7960.796\t0.915\t0.663\t0.606\t0.693\t0.575\t0.521\t0.850\n",
    "17\tJeanneRbs\tIAL-602\tJul 28, 2022\t0.706\t0.821\t0.549\t0.776\t0.7960.910\t0.607\t0.606\t0.685\t0.637\t0.521\t0.855\n",
    "18\tsxjscience\ttest-submission11B--2\tSep 23, 2022\t0.703\t0.823\t0.0120.871\t0.791\t0.947\t0.917\t0.523\t0.728\t0.722\t0.517\t0.878\n",
    "19\talon-albalak\tUCB1-FLAD-3B\tApr 30, 2023\t0.701\t0.808\t0.588\t0.8770.421\t0.936\t0.885\t0.493\t0.679\t0.602\t0.545\t0.881\n",
    "20\talon-albalak\tUCB1-FLAD-3B\tMar 28, 2023\t0.700\t0.690\t0.590\t0.8440.496\t0.937\t0.880\t0.493\t0.689\t0.712\t0.502\t0.871\n",
    "21\tRaldir\ttest-submission-11b-r\tSep 24, 2022\t0.699\t0.797\t0.012\t0.8420.793\t0.939\t0.920\t0.493\t0.754\t0.703\t0.542\t0.894\n",
    "22\ttimoschick\tPET\tNov 08, 2021\t0.696\t0.822\t0.593\t0.857\t0.6460.908\t0.816\t0.493\t0.638\t0.576\t0.483\t0.824\n",
    "23\tseonghyeonye\tFLIPPED-Tfew\tNov 20, 2022\t0.690\t0.755\t0.663\t0.7940.220\t0.938\t0.903\t0.483\t0.736\t0.694\t0.533\t0.871\n",
    "24\tOE-Heart\tyiwise\tJun 02, 2022\t0.681\t0.793\t0.012\t0.833\t0.6430.948\t0.907\t0.509\t0.693\t0.725\t0.545\t0.886\n",
    "25\tmoshew\tSetFit\tOct 20, 2021\t0.669\t0.726\t0.538\t0.872\t0.521\t0.9070.682\t0.493\t0.628\t0.620\t0.532\t0.837\n",
    "26\tsmangrul\tsample_test_peft\tDec 09, 2022\t0.660\t0.707\t0.5360.800\t0.319\t0.916\t0.889\t0.493\t0.564\t0.711\t0.464\t0.863\n",
    "27\tsmangrul\tlora-t0-3b\tDec 22, 2022\t0.660\t0.707\t0.536\t0.8000.319\t0.916\t0.889\t0.493\t0.564\t0.711\t0.464\t0.863\n",
    "28\tAPauli\tanchor\tDec 23, 2022\t0.654\t0.777\t0.171\t0.759\t0.711\t0.9260.674\t0.493\t0.672\t0.671\t0.499\t0.845\n",
    "29\tDaromog\tNLI_V1\tDec 24, 2022\t0.646\t0.789\t0.619\t0.590\t0.359\t0.9280.757\t0.493\t0.638\t0.624\t0.500\t0.814\n",
    "30\tAPauli\tAnchorE\tJan 01, 2023\t0.640\t0.774\t0.067\t0.752\t0.700\t0.8910.728\t0.493\t0.679\t0.616\t0.528\t0.817\n",
    "31\tAPauli\tAnchor_300\tApr 07, 2023\t0.638\t0.774\t0.213\t0.773\t0.5390.896\t0.636\t0.493\t0.683\t0.687\t0.526\t0.798\n",
    "32\tought\tGPT-3\tSep 28, 2021\t0.627\t0.686\t0.299\t0.679\t0.431\t0.9370.769\t0.516\t0.656\t0.574\t0.526\t0.821\n",
    "33\tHLaci\tSetFitBase\tSep 18, 2023\t0.624\t0.729\t0.164\t0.659\t0.6760.892\t0.634\t0.493\t0.641\t0.652\t0.488\t0.832\n",
    "34\tTomyAndi\tPERFECT\tJun 14, 2022\t0.618\t0.602\t0.636\t0.755\t0.5290.833\t0.477\t0.509\t0.532\t0.676\t0.507\t0.744\n",
    "35\tmuelletm\tsymb-v1\tSep 21, 2022\t0.617\t0.655\t0.629\t0.660\t0.2950.893\t0.459\t0.492\t0.683\t0.664\t0.503\t0.850\n",
    "36\tDaromog\tPET_NLI\tDec 18, 2022\t0.609\t0.789\t0.256\t0.590\t0.359\t0.9280.744\t0.493\t0.638\t0.624\t0.490\t0.792\n",
    "37\tbugidi\tSCARFS\tApr 10, 2022\t0.608\t0.586\t0.542\t0.673\t0.283\t0.8370.710\t0.493\t0.593\t0.689\t0.499\t0.788\n",
    "38\tHLaci\tSetFitCentroid\tOct 22, 2023\t0.607\t0.702\t0.222\t0.599\t0.4970.906\t0.733\t0.493\t0.615\t0.604\t0.486\t0.824\n",
    "39\tMarioMartone\tSurprise Classifier\tFeb 22, 2023\t0.604\t0.541\t0.6280.793\t0.284\t0.884\t0.700\t0.403\t0.615\t0.459\t0.560\t0.781\n",
    "40\tmoanik\tmasf\tOct 28, 2023\t0.601\t0.702\t0.222\t0.582\t0.555\t0.9030.733\t0.493\t0.513\t0.602\t0.484\t0.824\n",
    "41\tLinuxdex\tAG-mb\tFeb 25, 2023\t0.599\t0.623\t0.532\t0.678\t0.3030.821\t0.635\t0.524\t0.596\t0.597\t0.530\t0.753\n",
    "42\tJoocjun\tgdragon\tMay 21, 2023\t0.594\t0.612\t0.063\t0.790\t0.385\t0.9110.845\t0.393\t0.613\t0.527\t0.618\t0.774\n",
    "43\tyiuli\tftf\tJan 21, 2023\t0.593\t0.815\t0.569\t0.527\t0.319\t0.8620.627\t0.408\t0.615\t0.454\t0.499\t0.830\n",
    "44\tEagleking\tgcompany\tMay 21, 2023\t0.580\t0.588\t0.070\t0.7250.313\t0.881\t0.807\t0.402\t0.641\t0.517\t0.635\t0.807\n",
    "45\tDeyae\tAFDA\tJun 24, 2022\t0.572\t0.637\t0.393\t0.662\t0.166\t0.8970.675\t0.493\t0.626\t0.492\t0.453\t0.802\n",
    "46\tLinuxdex\tAG-tt\tMar 20, 2023\t0.563\t0.481\t0.528\t0.651\t0.3360.908\t0.546\t0.493\t0.639\t0.565\t0.298\t0.743\n",
    "47\tbugidi\tRealBoazRoy\tJan 10, 2022\t0.561\t0.589\t0.155\t0.593\t0.2970.846\t0.813\t0.493\t0.622\t0.579\t0.517\t0.668\n",
    "48\tLinuxdex\tAG-mb\tFeb 12, 2023\t0.555\t0.661\t0.138\t0.588\t0.2930.871\t0.474\t0.493\t0.630\t0.642\t0.519\t0.798\n",
    "49\tMarioMartone\tSC-zero-shot\tJan 29, 2023\t0.553\t0.570\t0.587\t0.5660.330\t0.847\t0.534\t0.376\t0.533\t0.458\t0.615\t0.666\n",
    "50\tMarioMartone\tSurprise\tFeb 18, 2023\t0.553\t0.570\t0.587\t0.5660.330\t0.847\t0.534\t0.376\t0.533\t0.458\t0.615\t0.666\n",
    "51\tarnaudstiegler\tHS-tc\tApr 15, 2022\t0.528\t0.578\t0.067\t0.636\t0.4350.826\t0.367\t0.509\t0.602\t0.591\t0.481\t0.717\n",
    "52\tmuelletm\tsnlt\tOct 05, 2021\t0.528\t0.603\t0.248\t0.585\t0.3020.831\t0.336\t0.492\t0.626\t0.540\t0.449\t0.791\n",
    "53\tkoaning\tdoes this work\tApr 26, 2023\t0.514\t0.615\t0.176\t0.525\t0.2890.798\t0.332\t0.492\t0.599\t0.614\t0.462\t0.751\n",
    "54\tought\tAdaBoost\tSep 28, 2021\t0.514\t0.543\t0.023\t0.626\t0.4750.838\t0.455\t0.506\t0.556\t0.560\t0.443\t0.625\n",
    "55\tGrasshopper12\tccme\tMay 21, 2023\t0.511\t0.559\t0.064\t0.576\t0.2950.833\t0.819\t0.250\t0.583\t0.308\t0.578\t0.754\n",
    "56\tMarioMartone\tSC zs flan-t5\tMar 03, 2023\t0.491\t0.565\t0.418\t0.4220.327\t0.746\t0.489\t0.266\t0.508\t0.445\t0.558\t0.652\n",
    "57\tVictorSanh\tT0++ zero-shot\tJan 10, 2022\t0.488\t0.408\t0.224\t0.6970.321\t0.750\t0.624\t0.493\t0.454\t0.441\t0.377\t0.584\n",
    "58\tas980\tFluffy\tMay 14, 2023\t0.486\t0.484\t0.012\t0.572\t0.345\t0.8740.292\t0.383\t0.621\t0.555\t0.460\t0.744\n",
    "59\tought\tGPT-Neo\tSep 28, 2021\t0.481\t0.452\t0.149\t0.408\t0.343\t0.6810.406\t0.493\t0.605\t0.565\t0.554\t0.636\n",
    "60\tHappyjo\tgo\tMay 19, 2023\t0.476\t0.471\t0.043\t0.540\t0.279\t0.7840.768\t0.202\t0.575\t0.178\t0.605\t0.790\n",
    "61\tHappyjo\tcdrom\tMay 21, 2023\t0.476\t0.471\t0.043\t0.540\t0.279\t0.7840.768\t0.202\t0.575\t0.178\t0.605\t0.790\n",
    "62\tcanwenxu\t0-shot SC BART\tFeb 03, 2023\t0.473\t0.488\t0.489\t0.5520.327\t0.437\t0.532\t0.234\t0.513\t0.460\t0.569\t0.598\n",
    "63\tcanwenxu\t0-shot SC\tJan 21, 2023\t0.473\t0.488\t0.489\t0.5520.327\t0.437\t0.532\t0.234\t0.513\t0.460\t0.569\t0.598\n",
    "64\tought\tGPT-2\tSep 28, 2021\t0.458\t0.600\t0.121\t0.561\t0.245\t0.4980.380\t0.492\t0.612\t0.498\t0.311\t0.723\n",
    "65\tJanH\tJdist0\tMay 12, 2023\t0.433\t0.448\t0.012\t0.559\t0.345\t0.5060.292\t0.350\t0.492\t0.417\t0.483\t0.864\n",
    "66\tcici13306\tJdistStudent\tMay 13, 2023\t0.427\t0.448\t0.012\t0.5590.345\t0.506\t0.292\t0.350\t0.492\t0.417\t0.483\t0.790\n",
    "67\tseungone\tso337\tMay 21, 2023\t0.425\t0.493\t0.011\t0.462\t0.3510.492\t0.360\t0.488\t0.493\t0.514\t0.517\t0.493\n",
    "68\tlouisdebroglie\tldb1137\tMay 21, 2023\t0.422\t0.494\t0.010\t0.450\t0.3500.487\t0.377\t0.496\t0.516\t0.516\t0.458\t0.490\n",
    "69\tdoyoungkim\tdyk325\tMay 21, 2023\t0.420\t0.499\t0.009\t0.498\t0.2840.486\t0.370\t0.500\t0.492\t0.494\t0.494\t0.497\n",
    "70\tCaffreyR\tCaffrey\tJul 11, 2022\t0.417\t0.652\t0.012\t0.559\t0.3450.506\t0.292\t0.350\t0.492\t0.417\t0.483\t0.478\n",
    "71\tlksenel\ttz2pzs\tDec 30, 2021\t0.417\t0.403\t0.001\t0.353\t0.216\t0.6960.504\t0.514\t0.497\t0.364\t0.366\t0.669\n",
    "72\tSkyeDu\tPET-albern-base\tNov 02, 2022\t0.411\t0.448\t0.012\t0.559\t0.3450.506\t0.292\t0.350\t0.492\t0.417\t0.477\t0.628\n",
    "73\tmrcommonsense\tmcs1125\tMay 21, 2023\t0.409\t0.500\t0.012\t0.484\t0.3370.480\t0.367\t0.493\t0.478\t0.479\t0.375\t0.492\n",
    "74\tkoaning\tdoes this work\tApr 21, 2023\t0.398\t0.448\t0.012\t0.559\t0.3450.506\t0.292\t0.350\t0.492\t0.417\t0.483\t0.478\n",
    "75\tAnon126\tWSIAP\tMay 01, 2022\t0.398\t0.448\t0.012\t0.559\t0.345\t0.5060.292\t0.350\t0.492\t0.417\t0.483\t0.478\n",
    "76\tVictorSanh\tT0++\tJan 10, 2022\t0.387\t0.560\t0.111\t0.440\t0.3010.347\t0.344\t0.493\t0.415\t0.441\t0.495\t0.309\n",
    "77\tought\tBART MNLI zero-shot\tSep 28, 2021\t0.382\t0.234\t0.332\t0.6150.360\t0.462\t0.644\t0.026\t0.469\t0.122\t0.543\t0.400\n",
    "78\tjogonba2\tzs-ca\tJan 20, 2023\t0.348\t0.342\t0.452\t0.542\t0.3460.487\t0.322\t0.073\t0.344\t0.271\t0.303\t0.350\n",
    "79\tought\tPlurality-class\tSep 27, 2021\t0.331\t0.446\t0.000\t0.353\t0.1640.337\t0.271\t0.493\t0.344\t0.471\t0.366\t0.391\n",
    "80\tDaromog\tNLI_ZS\tJan 29, 2023\t0.296\t0.167\t0.044\t0.415\t0.337\t0.3370.757\t0.108\t0.390\t0.103\t0.309\t0.289\n",
    "81\tought\tGPT-3 zero-shot\tSep 28, 2021\t0.292\t0.163\t0.000\t0.572\t0.3230.378\t0.628\t0.027\t0.362\t0.164\t0.303\t0.290\"\"\""
   ]
  },
  {
   "cell_type": "code",
   "execution_count": 3,
   "metadata": {},
   "outputs": [],
   "source": [
    "df = pl.read_csv(io.StringIO(tsv), separator=\"\\t\").sort(\"Overall\", descending=True)"
   ]
  },
  {
   "cell_type": "code",
   "execution_count": 4,
   "metadata": {},
   "outputs": [],
   "source": [
    "def acc_diff(x, y):\n",
    "    return x - y\n",
    "\n",
    "\n",
    "def odds_ratio(x, y):\n",
    "    return (x / (1 - x)) / (y / (1 - y))"
   ]
  },
  {
   "cell_type": "code",
   "execution_count": 5,
   "metadata": {},
   "outputs": [
    {
     "data": {
      "text/html": [
       "<div><style>\n",
       ".dataframe > thead > tr,\n",
       ".dataframe > tbody > tr {\n",
       "  text-align: right;\n",
       "  white-space: pre-wrap;\n",
       "}\n",
       "</style>\n",
       "<small>shape: (9, 2)</small><table border=\"1\" class=\"dataframe\"><thead><tr><th>statistic</th><th>value</th></tr><tr><td>str</td><td>f64</td></tr></thead><tbody><tr><td>&quot;count&quot;</td><td>80.0</td></tr><tr><td>&quot;null_count&quot;</td><td>0.0</td></tr><tr><td>&quot;mean&quot;</td><td>0.006013</td></tr><tr><td>&quot;std&quot;</td><td>0.007052</td></tr><tr><td>&quot;min&quot;</td><td>0.0</td></tr><tr><td>&quot;25%&quot;</td><td>0.002</td></tr><tr><td>&quot;50%&quot;</td><td>0.003</td></tr><tr><td>&quot;75%&quot;</td><td>0.008</td></tr><tr><td>&quot;max&quot;</td><td>0.035</td></tr></tbody></table></div>"
      ],
      "text/plain": [
       "shape: (9, 2)\n",
       "┌────────────┬──────────┐\n",
       "│ statistic  ┆ value    │\n",
       "│ ---        ┆ ---      │\n",
       "│ str        ┆ f64      │\n",
       "╞════════════╪══════════╡\n",
       "│ count      ┆ 80.0     │\n",
       "│ null_count ┆ 0.0      │\n",
       "│ mean       ┆ 0.006013 │\n",
       "│ std        ┆ 0.007052 │\n",
       "│ min        ┆ 0.0      │\n",
       "│ 25%        ┆ 0.002    │\n",
       "│ 50%        ┆ 0.003    │\n",
       "│ 75%        ┆ 0.008    │\n",
       "│ max        ┆ 0.035    │\n",
       "└────────────┴──────────┘"
      ]
     },
     "execution_count": 5,
     "metadata": {},
     "output_type": "execute_result"
    }
   ],
   "source": [
    "gaps_acc = pl.Series(\n",
    "    [acc_diff(df[\"Overall\"][i], df[\"Overall\"][i + 1]) for i in range(len(df) - 1)]\n",
    ")\n",
    "\n",
    "gaps_acc.describe()"
   ]
  },
  {
   "cell_type": "code",
   "execution_count": 6,
   "metadata": {},
   "outputs": [
    {
     "data": {
      "text/html": [
       "<div><style>\n",
       ".dataframe > thead > tr,\n",
       ".dataframe > tbody > tr {\n",
       "  text-align: right;\n",
       "  white-space: pre-wrap;\n",
       "}\n",
       "</style>\n",
       "<small>shape: (9, 2)</small><table border=\"1\" class=\"dataframe\"><thead><tr><th>statistic</th><th>value</th></tr><tr><td>str</td><td>f64</td></tr></thead><tbody><tr><td>&quot;count&quot;</td><td>80.0</td></tr><tr><td>&quot;null_count&quot;</td><td>0.0</td></tr><tr><td>&quot;mean&quot;</td><td>1.027227</td></tr><tr><td>&quot;std&quot;</td><td>0.032647</td></tr><tr><td>&quot;min&quot;</td><td>1.0</td></tr><tr><td>&quot;25%&quot;</td><td>1.008158</td></tr><tr><td>&quot;50%&quot;</td><td>1.015076</td></tr><tr><td>&quot;75%&quot;</td><td>1.035792</td></tr><tr><td>&quot;max&quot;</td><td>1.176746</td></tr></tbody></table></div>"
      ],
      "text/plain": [
       "shape: (9, 2)\n",
       "┌────────────┬──────────┐\n",
       "│ statistic  ┆ value    │\n",
       "│ ---        ┆ ---      │\n",
       "│ str        ┆ f64      │\n",
       "╞════════════╪══════════╡\n",
       "│ count      ┆ 80.0     │\n",
       "│ null_count ┆ 0.0      │\n",
       "│ mean       ┆ 1.027227 │\n",
       "│ std        ┆ 0.032647 │\n",
       "│ min        ┆ 1.0      │\n",
       "│ 25%        ┆ 1.008158 │\n",
       "│ 50%        ┆ 1.015076 │\n",
       "│ 75%        ┆ 1.035792 │\n",
       "│ max        ┆ 1.176746 │\n",
       "└────────────┴──────────┘"
      ]
     },
     "execution_count": 6,
     "metadata": {},
     "output_type": "execute_result"
    }
   ],
   "source": [
    "gaps_or = pl.Series(\n",
    "    [odds_ratio(df[\"Overall\"][i], df[\"Overall\"][i + 1]) for i in range(len(df) - 1)]\n",
    ")\n",
    "\n",
    "gaps_or.describe()"
   ]
  }
 ],
 "metadata": {
  "kernelspec": {
   "display_name": "pretrain",
   "language": "python",
   "name": "python3"
  },
  "language_info": {
   "codemirror_mode": {
    "name": "ipython",
    "version": 3
   },
   "file_extension": ".py",
   "mimetype": "text/x-python",
   "name": "python",
   "nbconvert_exporter": "python",
   "pygments_lexer": "ipython3",
   "version": "3.11.5"
  }
 },
 "nbformat": 4,
 "nbformat_minor": 2
}
