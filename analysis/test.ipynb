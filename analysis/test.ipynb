{
  "cells": [
    {
      "cell_type": "markdown",
      "metadata": {},
      "source": [
        "**Description**: Test that priors make some sense and model fitting works.\n",
        "\n",
        "**Estimated runtime**: ~30 min."
      ]
    },
    {
      "cell_type": "markdown",
      "metadata": {},
      "source": [
        "Note: I'm still learning how to do this type of analysis."
      ]
    },
    {
      "cell_type": "code",
      "execution_count": 1,
      "metadata": {
        "id": "JJBZkhd2fwnA"
      },
      "outputs": [
        {
          "name": "stderr",
          "output_type": "stream",
          "text": [
            "WARNING (pytensor.tensor.blas): Using NumPy C-API based implementation for BLAS functions.\n"
          ]
        }
      ],
      "source": [
        "from typing import Literal\n",
        "\n",
        "import arviz as az\n",
        "import bambi as bmb\n",
        "import numpy as np\n",
        "import polars as pl\n",
        "import seaborn as sns\n",
        "import xarray as xr\n",
        "\n",
        "import utils"
      ]
    },
    {
      "cell_type": "code",
      "execution_count": 2,
      "metadata": {
        "id": "riORkp7jfwnD"
      },
      "outputs": [],
      "source": [
        "sns.set_theme(style=\"darkgrid\")"
      ]
    },
    {
      "cell_type": "markdown",
      "metadata": {},
      "source": [
        "# Configuration"
      ]
    },
    {
      "cell_type": "markdown",
      "metadata": {},
      "source": [
        "Which number of test observations do you want to analyze?"
      ]
    },
    {
      "cell_type": "code",
      "execution_count": 3,
      "metadata": {},
      "outputs": [],
      "source": [
        "num_test: Literal[200, 500] = 200"
      ]
    },
    {
      "cell_type": "markdown",
      "metadata": {
        "id": "S0dLa7_-fwnE"
      },
      "source": [
        "# Load data"
      ]
    },
    {
      "cell_type": "code",
      "execution_count": 4,
      "metadata": {},
      "outputs": [],
      "source": [
        "accuracies_home_dir = \"accuracies_from_paper\""
      ]
    },
    {
      "cell_type": "code",
      "execution_count": 5,
      "metadata": {},
      "outputs": [],
      "source": [
        "num_correct_df = utils.load_num_correct_all(accuracies_home_dir, num_test)"
      ]
    },
    {
      "cell_type": "markdown",
      "metadata": {},
      "source": [
        "# Simulate data"
      ]
    },
    {
      "cell_type": "markdown",
      "metadata": {},
      "source": [
        "Currently test that it doesn't detect a null effect.\n",
        "\n",
        "TODO: repeat for a subtle, non-null effect."
      ]
    },
    {
      "cell_type": "code",
      "execution_count": 6,
      "metadata": {},
      "outputs": [],
      "source": [
        "method_prior_mean_std = (0, 0.001)\n",
        "# method refers to the variable indicating treatment vs control\n",
        "\n",
        "equation = \"p(num_correct, num_test) ~ method + lm_type + (1|dataset/pair)\"\n",
        "id_vars = [\"num_test\", \"pair\", \"lm_type\", \"dataset\"]"
      ]
    },
    {
      "cell_type": "code",
      "execution_count": 7,
      "metadata": {},
      "outputs": [
        {
          "name": "stderr",
          "output_type": "stream",
          "text": [
            "/Users/kdubey/Envs/pretrain/lib/python3.11/site-packages/formulae/terms/call.py:108: FutureWarning: is_categorical_dtype is deprecated and will be removed in a future version. Use isinstance(dtype, CategoricalDtype) instead\n",
            "  elif is_string_dtype(x) or is_categorical_dtype(x) or isinstance(x, CategoricalBox):\n"
          ]
        }
      ],
      "source": [
        "model: bmb.Model = utils.stat_model(\n",
        "    num_correct_df,\n",
        "    treatment=\"test\",\n",
        "    control=\"extra\",\n",
        "    equation=equation,\n",
        "    id_vars=id_vars,\n",
        "    chains=2,\n",
        "    dont_fit=True,\n",
        "    method_prior_mean_std=method_prior_mean_std,\n",
        ")"
      ]
    },
    {
      "cell_type": "code",
      "execution_count": 8,
      "metadata": {},
      "outputs": [],
      "source": [
        "model.build()"
      ]
    },
    {
      "cell_type": "markdown",
      "metadata": {},
      "source": [
        "Fitting the model is so slow that I can only afford to check a few samples from the\n",
        "prior, hence `draw=1`"
      ]
    },
    {
      "cell_type": "code",
      "execution_count": 9,
      "metadata": {},
      "outputs": [
        {
          "name": "stderr",
          "output_type": "stream",
          "text": [
            "Sampling: [1|dataset:pair_offset, 1|dataset:pair_sigma, 1|dataset_offset, 1|dataset_sigma, Intercept, lm_type, method, p(num_correct, num_test)]\n"
          ]
        }
      ],
      "source": [
        "random_seed = 123\n",
        "idata_prior: az.InferenceData = model.prior_predictive(draws=1, random_seed=random_seed)"
      ]
    },
    {
      "cell_type": "code",
      "execution_count": 10,
      "metadata": {},
      "outputs": [],
      "source": [
        "prior: xr.DataArray = az.extract(idata_prior, group=\"prior_predictive\")[\n",
        "    \"p(num_correct, num_test)\"\n",
        "]"
      ]
    },
    {
      "cell_type": "markdown",
      "metadata": {},
      "source": [
        "# Turn simulated data into DF"
      ]
    },
    {
      "cell_type": "markdown",
      "metadata": {},
      "source": [
        "Some data we'll need to populated the simulated DF:"
      ]
    },
    {
      "cell_type": "code",
      "execution_count": 11,
      "metadata": {},
      "outputs": [],
      "source": [
        "datasets = num_correct_df[\"dataset\"].unique(maintain_order=True)\n",
        "num_subsamples = (\n",
        "    num_correct_df.group_by([\"lm_type\", \"dataset\"])\n",
        "    .count()\n",
        "    .select(\"count\")\n",
        "    .head(n=1)\n",
        "    .item()\n",
        ")\n",
        "lm_types = num_correct_df[\"lm_type\"].unique(maintain_order=True)"
      ]
    },
    {
      "cell_type": "markdown",
      "metadata": {},
      "source": [
        "Inverse of `melt` is `pivot`"
      ]
    },
    {
      "cell_type": "code",
      "execution_count": 12,
      "metadata": {},
      "outputs": [],
      "source": [
        "# TODO: test this code for correctness\n",
        "num_correct_df_simluated = (\n",
        "    pl.DataFrame(\n",
        "        {\n",
        "            \"num_test\": num_test,\n",
        "            \"pair\": np.repeat(np.arange(len(num_correct_df)), 2),  # 2=treatment,control\n",
        "            \"lm_type\": np.tile(\n",
        "                lm_types.to_numpy().repeat(datasets.len() * num_subsamples),\n",
        "                reps=lm_types.len(),\n",
        "            ).tolist(),\n",
        "            \"dataset\": np.tile(\n",
        "                datasets.to_numpy().repeat(num_subsamples * 2), reps=lm_types.len()\n",
        "            ).tolist(),\n",
        "            \"method\": np.tile([\"control\", \"treatment\"], reps=len(num_correct_df)),\n",
        "            \"num_correct\": prior[:, 0].to_numpy(),\n",
        "        }\n",
        "    )\n",
        "    .pivot(values=\"num_correct\", index=id_vars, columns=\"method\")\n",
        "    .drop(\"pair\")\n",
        ")"
      ]
    },
    {
      "cell_type": "markdown",
      "metadata": {},
      "source": [
        "# Visually check priors"
      ]
    },
    {
      "cell_type": "markdown",
      "metadata": {},
      "source": [
        "Plot the distributions of the outcomes: the number of correct predictions.\n",
        "\n",
        "I decided to adjust some priors—$\\beta$\n",
        "standard deviation, $\\sigma_{D}, \\sigma_{V}$—from $3.5355$ to\n",
        "$1$ b/c the latter results in wide, basin-like outcomes.\n",
        "\n",
        "This modification doesn't seem to affect the distribution of the posterior mean\n",
        "($\\beta$), i.e., it doesn't change the conclusions. It also didn't affect convergence\n",
        "diagnostics—they're fine in both cases."
      ]
    },
    {
      "cell_type": "code",
      "execution_count": 13,
      "metadata": {},
      "outputs": [
        {
          "data": {
            "image/png": "[encoded data removed]",
            "text/plain": [
              "<Figure size 640x480 with 1 Axes>"
            ]
          },
          "metadata": {},
          "output_type": "display_data"
        }
      ],
      "source": [
        "sns.histplot(num_correct_df_simluated.select([\"control\", \"treatment\"]).to_pandas());"
      ]
    },
    {
      "cell_type": "markdown",
      "metadata": {},
      "source": [
        "# Test"
      ]
    },
    {
      "cell_type": "markdown",
      "metadata": {},
      "source": [
        "Should not see an effect outside the range of (-0.01, 0.01) if the model makes sense and\n",
        "the fit code is correct."
      ]
    },
    {
      "cell_type": "code",
      "execution_count": 14,
      "metadata": {
        "colab": {
          "base_uri": "https://localhost:8080/",
          "height": 406
        },
        "id": "HtuVjGWGfwnI",
        "outputId": "c10280e5-dc0b-4d45-b38c-e24fa95b1ab6"
      },
      "outputs": [
        {
          "name": "stderr",
          "output_type": "stream",
          "text": [
            "/Users/kdubey/Envs/pretrain/lib/python3.11/site-packages/formulae/terms/call.py:108: FutureWarning: is_categorical_dtype is deprecated and will be removed in a future version. Use isinstance(dtype, CategoricalDtype) instead\n",
            "  elif is_string_dtype(x) or is_categorical_dtype(x) or isinstance(x, CategoricalBox):\n",
            "Auto-assigning NUTS sampler...\n",
            "Initializing NUTS using jitter+adapt_diag...\n",
            "Sequential sampling (2 chains in 1 job)\n",
            "NUTS: [Intercept, method, lm_type, 1|dataset_sigma, 1|dataset_offset, 1|dataset:pair_sigma, 1|dataset:pair_offset]\n"
          ]
        },
        {
          "data": {
            "text/html": [
              "\n",
              "<style>\n",
              "    /* Turns off some styling */\n",
              "    progress {\n",
              "        /* gets rid of default border in Firefox and Opera. */\n",
              "        border: none;\n",
              "        /* Needs to be in here for Safari polyfill so background images work as expected. */\n",
              "        background-size: auto;\n",
              "    }\n",
              "    progress:not([value]), progress:not([value])::-webkit-progress-bar {\n",
              "        background: repeating-linear-gradient(45deg, #7e7e7e, #7e7e7e 10px, #5c5c5c 10px, #5c5c5c 20px);\n",
              "    }\n",
              "    .progress-bar-interrupted, .progress-bar-interrupted::-webkit-progress-bar {\n",
              "        background: #F44336;\n",
              "    }\n",
              "</style>\n"
            ],
            "text/plain": [
              "<IPython.core.display.HTML object>"
            ]
          },
          "metadata": {},
          "output_type": "display_data"
        },
        {
          "data": {
            "text/html": [
              "\n",
              "    <div>\n",
              "      <progress value='2000' class='' max='2000' style='width:300px; height:20px; vertical-align: middle;'></progress>\n",
              "      100.00% [2000/2000 13:03&lt;00:00 Sampling chain 0, 0 divergences]\n",
              "    </div>\n",
              "    "
            ],
            "text/plain": [
              "<IPython.core.display.HTML object>"
            ]
          },
          "metadata": {},
          "output_type": "display_data"
        },
        {
          "data": {
            "text/html": [
              "\n",
              "<style>\n",
              "    /* Turns off some styling */\n",
              "    progress {\n",
              "        /* gets rid of default border in Firefox and Opera. */\n",
              "        border: none;\n",
              "        /* Needs to be in here for Safari polyfill so background images work as expected. */\n",
              "        background-size: auto;\n",
              "    }\n",
              "    progress:not([value]), progress:not([value])::-webkit-progress-bar {\n",
              "        background: repeating-linear-gradient(45deg, #7e7e7e, #7e7e7e 10px, #5c5c5c 10px, #5c5c5c 20px);\n",
              "    }\n",
              "    .progress-bar-interrupted, .progress-bar-interrupted::-webkit-progress-bar {\n",
              "        background: #F44336;\n",
              "    }\n",
              "</style>\n"
            ],
            "text/plain": [
              "<IPython.core.display.HTML object>"
            ]
          },
          "metadata": {},
          "output_type": "display_data"
        },
        {
          "data": {
            "text/html": [
              "\n",
              "    <div>\n",
              "      <progress value='2000' class='' max='2000' style='width:300px; height:20px; vertical-align: middle;'></progress>\n",
              "      100.00% [2000/2000 15:10&lt;00:00 Sampling chain 1, 0 divergences]\n",
              "    </div>\n",
              "    "
            ],
            "text/plain": [
              "<IPython.core.display.HTML object>"
            ]
          },
          "metadata": {},
          "output_type": "display_data"
        },
        {
          "name": "stderr",
          "output_type": "stream",
          "text": [
            "Sampling 2 chains for 1_000 tune and 1_000 draw iterations (2_000 + 2_000 draws total) took 1694 seconds.\n",
            "We recommend running at least 4 chains for robust computation of convergence diagnostics\n"
          ]
        },
        {
          "data": {
            "text/html": [
              "<div>\n",
              "<style scoped>\n",
              "    .dataframe tbody tr th:only-of-type {\n",
              "        vertical-align: middle;\n",
              "    }\n",
              "\n",
              "    .dataframe tbody tr th {\n",
              "        vertical-align: top;\n",
              "    }\n",
              "\n",
              "    .dataframe thead th {\n",
              "        text-align: right;\n",
              "    }\n",
              "</style>\n",
              "<table border=\"1\" class=\"dataframe\">\n",
              "  <thead>\n",
              "    <tr style=\"text-align: right;\">\n",
              "      <th></th>\n",
              "      <th>mean</th>\n",
              "      <th>sd</th>\n",
              "      <th>hdi_3%</th>\n",
              "      <th>hdi_97%</th>\n",
              "      <th>mcse_mean</th>\n",
              "      <th>mcse_sd</th>\n",
              "      <th>ess_bulk</th>\n",
              "      <th>ess_tail</th>\n",
              "      <th>r_hat</th>\n",
              "    </tr>\n",
              "  </thead>\n",
              "  <tbody>\n",
              "    <tr>\n",
              "      <th>method[treatment]</th>\n",
              "      <td>-0.001</td>\n",
              "      <td>0.005</td>\n",
              "      <td>-0.01</td>\n",
              "      <td>0.008</td>\n",
              "      <td>0.0</td>\n",
              "      <td>0.0</td>\n",
              "      <td>2026.0</td>\n",
              "      <td>1531.0</td>\n",
              "      <td>1.01</td>\n",
              "    </tr>\n",
              "  </tbody>\n",
              "</table>\n",
              "</div>"
            ],
            "text/plain": [
              "                    mean     sd  hdi_3%  hdi_97%  mcse_mean  mcse_sd  \\\n",
              "method[treatment] -0.001  0.005   -0.01    0.008        0.0      0.0   \n",
              "\n",
              "                   ess_bulk  ess_tail  r_hat  \n",
              "method[treatment]    2026.0    1531.0   1.01  "
            ]
          },
          "metadata": {},
          "output_type": "display_data"
        },
        {
          "data": {
            "image/png": "[encoded data removed]",
            "text/plain": [
              "<Figure size 1200x200 with 2 Axes>"
            ]
          },
          "metadata": {},
          "output_type": "display_data"
        }
      ],
      "source": [
        "model, summary, az_summary = utils.stat_model(\n",
        "    num_correct_df_simluated,\n",
        "    treatment=\"treatment\",\n",
        "    control=\"control\",\n",
        "    equation=equation,\n",
        "    id_vars=id_vars,\n",
        "    chains=2,\n",
        ")"
      ]
    }
  ],
  "metadata": {
    "accelerator": "GPU",
    "colab": {
      "gpuType": "T4",
      "provenance": []
    },
    "kernelspec": {
      "display_name": "Python 3",
      "name": "python3"
    },
    "language_info": {
      "codemirror_mode": {
        "name": "ipython",
        "version": 3
      },
      "file_extension": ".py",
      "mimetype": "text/x-python",
      "name": "python",
      "nbconvert_exporter": "python",
      "pygments_lexer": "ipython3",
      "version": "3.11.5"
    }
  },
  "nbformat": 4,
  "nbformat_minor": 0
}
