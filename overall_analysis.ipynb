{
  "cells": [
    {
      "cell_type": "code",
      "execution_count": 1,
      "metadata": {
        "id": "JJBZkhd2fwnA"
      },
      "outputs": [
        {
          "name": "stderr",
          "output_type": "stream",
          "text": [
            "WARNING (pytensor.tensor.blas): Using NumPy C-API based implementation for BLAS functions.\n"
          ]
        }
      ],
      "source": [
        "import os\n",
        "\n",
        "import arviz as az\n",
        "import bambi as bmb\n",
        "from IPython.display import display\n",
        "import pandas as pd\n",
        "import seaborn as sns\n",
        "import torch"
      ]
    },
    {
      "cell_type": "code",
      "execution_count": 2,
      "metadata": {
        "id": "riORkp7jfwnD"
      },
      "outputs": [],
      "source": [
        "sns.set_theme(style=\"darkgrid\")"
      ]
    },
    {
      "cell_type": "code",
      "execution_count": 3,
      "metadata": {},
      "outputs": [],
      "source": [
        "num_test = 500"
      ]
    },
    {
      "cell_type": "markdown",
      "metadata": {
        "id": "S0dLa7_-fwnE"
      },
      "source": [
        "# Load data"
      ]
    },
    {
      "cell_type": "code",
      "execution_count": 4,
      "metadata": {
        "id": "jdsSp2vFfwnF"
      },
      "outputs": [],
      "source": [
        "models = [\"bert\", \"gpt2\"]\n",
        "_accuracy_dfs = []\n",
        "\n",
        "for model in models:\n",
        "    accuracies_dir = os.path.join(\"accuracies_from_paper\", str(num_test), model)\n",
        "    _dfs = []\n",
        "    for dataset in sorted(os.listdir(accuracies_dir)):\n",
        "        _df = pd.read_csv(os.path.join(accuracies_dir, dataset, \"accuracies.csv\"))\n",
        "        _df[\"dataset\"] = dataset\n",
        "        _dfs.append(_df)\n",
        "    _accuracy_df = pd.concat(_dfs)\n",
        "    _accuracy_df[\"model\"] = model\n",
        "    _accuracy_df = _accuracy_df[[\"model\", \"dataset\", \"base\", \"extra\", \"test\"]]\n",
        "    _accuracy_dfs.append(_accuracy_df)\n",
        "accuracy_df = pd.concat(_accuracy_dfs)"
      ]
    },
    {
      "cell_type": "code",
      "execution_count": 5,
      "metadata": {
        "colab": {
          "base_uri": "https://localhost:8080/",
          "height": 423
        },
        "id": "gGMLm4udfwnG",
        "outputId": "7294ce56-140c-4bc9-99d5-95c15ace5559"
      },
      "outputs": [
        {
          "data": {
            "text/html": [
              "<div>\n",
              "<style scoped>\n",
              "    .dataframe tbody tr th:only-of-type {\n",
              "        vertical-align: middle;\n",
              "    }\n",
              "\n",
              "    .dataframe tbody tr th {\n",
              "        vertical-align: top;\n",
              "    }\n",
              "\n",
              "    .dataframe thead th {\n",
              "        text-align: right;\n",
              "    }\n",
              "</style>\n",
              "<table border=\"1\" class=\"dataframe\">\n",
              "  <thead>\n",
              "    <tr style=\"text-align: right;\">\n",
              "      <th></th>\n",
              "      <th>model</th>\n",
              "      <th>dataset</th>\n",
              "      <th>base</th>\n",
              "      <th>extra</th>\n",
              "      <th>test</th>\n",
              "      <th>pair</th>\n",
              "    </tr>\n",
              "  </thead>\n",
              "  <tbody>\n",
              "    <tr>\n",
              "      <th>0</th>\n",
              "      <td>bert</td>\n",
              "      <td>ag_news</td>\n",
              "      <td>403</td>\n",
              "      <td>432</td>\n",
              "      <td>430</td>\n",
              "      <td>0</td>\n",
              "    </tr>\n",
              "    <tr>\n",
              "      <th>1</th>\n",
              "      <td>bert</td>\n",
              "      <td>ag_news</td>\n",
              "      <td>309</td>\n",
              "      <td>408</td>\n",
              "      <td>427</td>\n",
              "      <td>1</td>\n",
              "    </tr>\n",
              "    <tr>\n",
              "      <th>2</th>\n",
              "      <td>bert</td>\n",
              "      <td>ag_news</td>\n",
              "      <td>340</td>\n",
              "      <td>424</td>\n",
              "      <td>433</td>\n",
              "      <td>2</td>\n",
              "    </tr>\n",
              "    <tr>\n",
              "      <th>3</th>\n",
              "      <td>bert</td>\n",
              "      <td>ag_news</td>\n",
              "      <td>333</td>\n",
              "      <td>436</td>\n",
              "      <td>422</td>\n",
              "      <td>3</td>\n",
              "    </tr>\n",
              "    <tr>\n",
              "      <th>4</th>\n",
              "      <td>bert</td>\n",
              "      <td>ag_news</td>\n",
              "      <td>285</td>\n",
              "      <td>419</td>\n",
              "      <td>405</td>\n",
              "      <td>4</td>\n",
              "    </tr>\n",
              "    <tr>\n",
              "      <th>...</th>\n",
              "      <td>...</td>\n",
              "      <td>...</td>\n",
              "      <td>...</td>\n",
              "      <td>...</td>\n",
              "      <td>...</td>\n",
              "      <td>...</td>\n",
              "    </tr>\n",
              "    <tr>\n",
              "      <th>15</th>\n",
              "      <td>gpt2</td>\n",
              "      <td>yelp_review_full</td>\n",
              "      <td>117</td>\n",
              "      <td>104</td>\n",
              "      <td>92</td>\n",
              "      <td>795</td>\n",
              "    </tr>\n",
              "    <tr>\n",
              "      <th>16</th>\n",
              "      <td>gpt2</td>\n",
              "      <td>yelp_review_full</td>\n",
              "      <td>129</td>\n",
              "      <td>100</td>\n",
              "      <td>109</td>\n",
              "      <td>796</td>\n",
              "    </tr>\n",
              "    <tr>\n",
              "      <th>17</th>\n",
              "      <td>gpt2</td>\n",
              "      <td>yelp_review_full</td>\n",
              "      <td>119</td>\n",
              "      <td>113</td>\n",
              "      <td>107</td>\n",
              "      <td>797</td>\n",
              "    </tr>\n",
              "    <tr>\n",
              "      <th>18</th>\n",
              "      <td>gpt2</td>\n",
              "      <td>yelp_review_full</td>\n",
              "      <td>155</td>\n",
              "      <td>117</td>\n",
              "      <td>115</td>\n",
              "      <td>798</td>\n",
              "    </tr>\n",
              "    <tr>\n",
              "      <th>19</th>\n",
              "      <td>gpt2</td>\n",
              "      <td>yelp_review_full</td>\n",
              "      <td>144</td>\n",
              "      <td>83</td>\n",
              "      <td>85</td>\n",
              "      <td>799</td>\n",
              "    </tr>\n",
              "  </tbody>\n",
              "</table>\n",
              "<p>800 rows × 6 columns</p>\n",
              "</div>"
            ],
            "text/plain": [
              "   model           dataset  base  extra  test  pair\n",
              "0   bert           ag_news   403    432   430     0\n",
              "1   bert           ag_news   309    408   427     1\n",
              "2   bert           ag_news   340    424   433     2\n",
              "3   bert           ag_news   333    436   422     3\n",
              "4   bert           ag_news   285    419   405     4\n",
              "..   ...               ...   ...    ...   ...   ...\n",
              "15  gpt2  yelp_review_full   117    104    92   795\n",
              "16  gpt2  yelp_review_full   129    100   109   796\n",
              "17  gpt2  yelp_review_full   119    113   107   797\n",
              "18  gpt2  yelp_review_full   155    117   115   798\n",
              "19  gpt2  yelp_review_full   144     83    85   799\n",
              "\n",
              "[800 rows x 6 columns]"
            ]
          },
          "execution_count": 5,
          "metadata": {},
          "output_type": "execute_result"
        }
      ],
      "source": [
        "num_correct_df = (accuracy_df.copy()[[\"base\", \"extra\", \"test\"]] * num_test).astype(\n",
        "    int, errors=\"raise\"\n",
        ")\n",
        "num_correct_df[\"dataset\"] = accuracy_df[\"dataset\"].copy()\n",
        "num_correct_df[\"model\"] = accuracy_df[\"model\"].copy()\n",
        "num_correct_df = num_correct_df[[\"model\", \"dataset\", \"base\", \"extra\", \"test\"]]\n",
        "num_correct_df[\"pair\"] = range(len(num_correct_df))\n",
        "num_correct_df"
      ]
    },
    {
      "cell_type": "code",
      "execution_count": 6,
      "metadata": {
        "id": "mp-Nrd-hfwnG"
      },
      "outputs": [],
      "source": [
        "def stat_model(\n",
        "    num_correct_df: pd.DataFrame, control_column: str, treatment_column: str\n",
        ") -> tuple[bmb.Model, az.InferenceData]:\n",
        "    df = (\n",
        "        num_correct_df[[\"pair\", \"model\", \"dataset\", control_column, treatment_column]]\n",
        "        .melt([\"pair\", \"model\", \"dataset\"], var_name=\"method\", value_name=\"num_correct\")\n",
        "        .sort_values(\"pair\")\n",
        "        .reset_index(drop=True)\n",
        "    )\n",
        "    # Pairs/subsamples were formed from the dataset. So it's nested, not crossed.\n",
        "    # Technically, crossed notation—(1|dataset) + (1|pair)—would still result in a\n",
        "    # nested inference b/c pair is uniquely coded\n",
        "    model = bmb.Model(\n",
        "        \"num_correct ~ method + (1|model) + (1|dataset/pair)\", family=\"poisson\", data=df\n",
        "    )\n",
        "    inference_method = \"mcmc\" if not torch.cuda.is_available() else \"nuts_numpyro\"\n",
        "    fit_summary: az.InferenceData = model.fit(\n",
        "        inference_method=inference_method, chains=1, random_seed=123, cores=1\n",
        "    )\n",
        "    az_summary: pd.DataFrame = az.summary(fit_summary)\n",
        "    display(\n",
        "        az_summary.loc[\n",
        "            [index_name for index_name in az_summary.index if \"method\" in index_name]\n",
        "        ]\n",
        "    )\n",
        "\n",
        "    az.plot_trace(fit_summary, compact=False, var_names=\"method\", filter_vars=\"like\")\n",
        "    return model, fit_summary"
      ]
    },
    {
      "cell_type": "code",
      "execution_count": 7,
      "metadata": {
        "colab": {
          "base_uri": "https://localhost:8080/",
          "height": 441
        },
        "id": "XyHkI8f4fwnH",
        "outputId": "92f0bf63-5bad-47a9-88ed-6f3fc13e415d"
      },
      "outputs": [
        {
          "name": "stderr",
          "output_type": "stream",
          "text": [
            "Auto-assigning NUTS sampler...\n",
            "Initializing NUTS using jitter+adapt_diag...\n",
            "Sequential sampling (1 chains in 1 job)\n",
            "NUTS: [Intercept, method, 1|model_sigma, 1|model_offset, 1|dataset_sigma, 1|dataset_offset, 1|dataset:pair_sigma, 1|dataset:pair_offset]\n"
          ]
        },
        {
          "data": {
            "text/html": [
              "\n",
              "<style>\n",
              "    /* Turns off some styling */\n",
              "    progress {\n",
              "        /* gets rid of default border in Firefox and Opera. */\n",
              "        border: none;\n",
              "        /* Needs to be in here for Safari polyfill so background images work as expected. */\n",
              "        background-size: auto;\n",
              "    }\n",
              "    progress:not([value]), progress:not([value])::-webkit-progress-bar {\n",
              "        background: repeating-linear-gradient(45deg, #7e7e7e, #7e7e7e 10px, #5c5c5c 10px, #5c5c5c 20px);\n",
              "    }\n",
              "    .progress-bar-interrupted, .progress-bar-interrupted::-webkit-progress-bar {\n",
              "        background: #F44336;\n",
              "    }\n",
              "</style>\n"
            ],
            "text/plain": [
              "<IPython.core.display.HTML object>"
            ]
          },
          "metadata": {},
          "output_type": "display_data"
        },
        {
          "data": {
            "text/html": [
              "\n",
              "    <div>\n",
              "      <progress value='2000' class='' max='2000' style='width:300px; height:20px; vertical-align: middle;'></progress>\n",
              "      100.00% [2000/2000 34:10&lt;00:00 Sampling chain 0, 176 divergences]\n",
              "    </div>\n",
              "    "
            ],
            "text/plain": [
              "<IPython.core.display.HTML object>"
            ]
          },
          "metadata": {},
          "output_type": "display_data"
        },
        {
          "name": "stderr",
          "output_type": "stream",
          "text": [
            "Sampling 1 chain for 1_000 tune and 1_000 draw iterations (1_000 + 1_000 draws total) took 2051 seconds.\n",
            "Only one chain was sampled, this makes it impossible to run some convergence checks\n",
            "arviz - WARNING - Shape validation failed: input_shape: (1, 1000), minimum_shape: (chains=2, draws=4)\n"
          ]
        },
        {
          "data": {
            "text/html": [
              "<div>\n",
              "<style scoped>\n",
              "    .dataframe tbody tr th:only-of-type {\n",
              "        vertical-align: middle;\n",
              "    }\n",
              "\n",
              "    .dataframe tbody tr th {\n",
              "        vertical-align: top;\n",
              "    }\n",
              "\n",
              "    .dataframe thead th {\n",
              "        text-align: right;\n",
              "    }\n",
              "</style>\n",
              "<table border=\"1\" class=\"dataframe\">\n",
              "  <thead>\n",
              "    <tr style=\"text-align: right;\">\n",
              "      <th></th>\n",
              "      <th>mean</th>\n",
              "      <th>sd</th>\n",
              "      <th>hdi_3%</th>\n",
              "      <th>hdi_97%</th>\n",
              "      <th>mcse_mean</th>\n",
              "      <th>mcse_sd</th>\n",
              "      <th>ess_bulk</th>\n",
              "      <th>ess_tail</th>\n",
              "      <th>r_hat</th>\n",
              "    </tr>\n",
              "  </thead>\n",
              "  <tbody>\n",
              "    <tr>\n",
              "      <th>method[extra]</th>\n",
              "      <td>0.095</td>\n",
              "      <td>0.003</td>\n",
              "      <td>0.089</td>\n",
              "      <td>0.102</td>\n",
              "      <td>0.0</td>\n",
              "      <td>0.0</td>\n",
              "      <td>769.0</td>\n",
              "      <td>298.0</td>\n",
              "      <td>NaN</td>\n",
              "    </tr>\n",
              "  </tbody>\n",
              "</table>\n",
              "</div>"
            ],
            "text/plain": [
              "                mean     sd  hdi_3%  hdi_97%  mcse_mean  mcse_sd  ess_bulk  \\\n",
              "method[extra]  0.095  0.003   0.089    0.102        0.0      0.0     769.0   \n",
              "\n",
              "               ess_tail  r_hat  \n",
              "method[extra]     298.0    NaN  "
            ]
          },
          "metadata": {},
          "output_type": "display_data"
        },
        {
          "data": {
            "image/png": "[encoded data removed]",
            "text/plain": [
              "<Figure size 1200x200 with 2 Axes>"
            ]
          },
          "metadata": {},
          "output_type": "display_data"
        }
      ],
      "source": [
        "model_control, summary_control = stat_model(\n",
        "    num_correct_df, control_column=\"base\", treatment_column=\"extra\"\n",
        ")"
      ]
    },
    {
      "cell_type": "code",
      "execution_count": 8,
      "metadata": {
        "colab": {
          "base_uri": "https://localhost:8080/"
        },
        "id": "ZPEfHfLyfwnH",
        "outputId": "d3e91780-2f19-422a-b345-144413a6ab7c"
      },
      "outputs": [
        {
          "name": "stdout",
          "output_type": "stream",
          "text": [
            "       Formula: num_correct ~ method + (1|model) + (1|dataset/pair)\n",
            "        Family: poisson\n",
            "          Link: mu = log\n",
            "  Observations: 1600\n",
            "        Priors: \n",
            "    target = mu\n",
            "        Common-level effects\n",
            "            Intercept ~ Normal(mu: 0.0, sigma: 3.5355)\n",
            "            method ~ Normal(mu: 0.0, sigma: 5.0)\n",
            "        \n",
            "        Group-level effects\n",
            "            1|model ~ Normal(mu: 0.0, sigma: HalfNormal(sigma: 3.5355))\n",
            "            1|dataset ~ Normal(mu: 0.0, sigma: HalfNormal(sigma: 3.5355))\n",
            "            1|dataset:pair ~ Normal(mu: 0.0, sigma: HalfNormal(sigma: 3.5355))\n",
            "------\n",
            "* To see a plot of the priors call the .plot_priors() method.\n",
            "* To see a summary or plot of the posterior pass the object returned by .fit() to az.summary() or az.plot_trace()\n"
          ]
        }
      ],
      "source": [
        "print(model_control)"
      ]
    },
    {
      "cell_type": "code",
      "execution_count": 9,
      "metadata": {
        "colab": {
          "base_uri": "https://localhost:8080/",
          "height": 406
        },
        "id": "HtuVjGWGfwnI",
        "outputId": "c10280e5-dc0b-4d45-b38c-e24fa95b1ab6"
      },
      "outputs": [
        {
          "name": "stderr",
          "output_type": "stream",
          "text": [
            "Auto-assigning NUTS sampler...\n",
            "Initializing NUTS using jitter+adapt_diag...\n",
            "Sequential sampling (1 chains in 1 job)\n",
            "NUTS: [Intercept, method, 1|model_sigma, 1|model_offset, 1|dataset_sigma, 1|dataset_offset, 1|dataset:pair_sigma, 1|dataset:pair_offset]\n"
          ]
        },
        {
          "data": {
            "text/html": [
              "\n",
              "<style>\n",
              "    /* Turns off some styling */\n",
              "    progress {\n",
              "        /* gets rid of default border in Firefox and Opera. */\n",
              "        border: none;\n",
              "        /* Needs to be in here for Safari polyfill so background images work as expected. */\n",
              "        background-size: auto;\n",
              "    }\n",
              "    progress:not([value]), progress:not([value])::-webkit-progress-bar {\n",
              "        background: repeating-linear-gradient(45deg, #7e7e7e, #7e7e7e 10px, #5c5c5c 10px, #5c5c5c 20px);\n",
              "    }\n",
              "    .progress-bar-interrupted, .progress-bar-interrupted::-webkit-progress-bar {\n",
              "        background: #F44336;\n",
              "    }\n",
              "</style>\n"
            ],
            "text/plain": [
              "<IPython.core.display.HTML object>"
            ]
          },
          "metadata": {},
          "output_type": "display_data"
        },
        {
          "data": {
            "text/html": [
              "\n",
              "    <div>\n",
              "      <progress value='2000' class='' max='2000' style='width:300px; height:20px; vertical-align: middle;'></progress>\n",
              "      100.00% [2000/2000 36:28&lt;00:00 Sampling chain 0, 177 divergences]\n",
              "    </div>\n",
              "    "
            ],
            "text/plain": [
              "<IPython.core.display.HTML object>"
            ]
          },
          "metadata": {},
          "output_type": "display_data"
        },
        {
          "name": "stderr",
          "output_type": "stream",
          "text": [
            "Sampling 1 chain for 1_000 tune and 1_000 draw iterations (1_000 + 1_000 draws total) took 2189 seconds.\n",
            "Only one chain was sampled, this makes it impossible to run some convergence checks\n",
            "arviz - WARNING - Shape validation failed: input_shape: (1, 1000), minimum_shape: (chains=2, draws=4)\n"
          ]
        },
        {
          "data": {
            "text/html": [
              "<div>\n",
              "<style scoped>\n",
              "    .dataframe tbody tr th:only-of-type {\n",
              "        vertical-align: middle;\n",
              "    }\n",
              "\n",
              "    .dataframe tbody tr th {\n",
              "        vertical-align: top;\n",
              "    }\n",
              "\n",
              "    .dataframe thead th {\n",
              "        text-align: right;\n",
              "    }\n",
              "</style>\n",
              "<table border=\"1\" class=\"dataframe\">\n",
              "  <thead>\n",
              "    <tr style=\"text-align: right;\">\n",
              "      <th></th>\n",
              "      <th>mean</th>\n",
              "      <th>sd</th>\n",
              "      <th>hdi_3%</th>\n",
              "      <th>hdi_97%</th>\n",
              "      <th>mcse_mean</th>\n",
              "      <th>mcse_sd</th>\n",
              "      <th>ess_bulk</th>\n",
              "      <th>ess_tail</th>\n",
              "      <th>r_hat</th>\n",
              "    </tr>\n",
              "  </thead>\n",
              "  <tbody>\n",
              "    <tr>\n",
              "      <th>method[test]</th>\n",
              "      <td>-0.001</td>\n",
              "      <td>0.004</td>\n",
              "      <td>-0.008</td>\n",
              "      <td>0.006</td>\n",
              "      <td>0.0</td>\n",
              "      <td>0.0</td>\n",
              "      <td>339.0</td>\n",
              "      <td>299.0</td>\n",
              "      <td>NaN</td>\n",
              "    </tr>\n",
              "  </tbody>\n",
              "</table>\n",
              "</div>"
            ],
            "text/plain": [
              "               mean     sd  hdi_3%  hdi_97%  mcse_mean  mcse_sd  ess_bulk  \\\n",
              "method[test] -0.001  0.004  -0.008    0.006        0.0      0.0     339.0   \n",
              "\n",
              "              ess_tail  r_hat  \n",
              "method[test]     299.0    NaN  "
            ]
          },
          "metadata": {},
          "output_type": "display_data"
        },
        {
          "data": {
            "image/png": "[encoded data removed]",
            "text/plain": [
              "<Figure size 1200x200 with 2 Axes>"
            ]
          },
          "metadata": {},
          "output_type": "display_data"
        }
      ],
      "source": [
        "model_bias, summary_bias = stat_model(\n",
        "    num_correct_df, control_column=\"extra\", treatment_column=\"test\"\n",
        ")"
      ]
    },
    {
      "cell_type": "code",
      "execution_count": 10,
      "metadata": {
        "colab": {
          "base_uri": "https://localhost:8080/"
        },
        "id": "-Yxv4zSyfwnJ",
        "outputId": "806817a5-be54-4758-ef69-e64068a2ccd4"
      },
      "outputs": [
        {
          "name": "stdout",
          "output_type": "stream",
          "text": [
            "       Formula: num_correct ~ method + (1|model) + (1|dataset/pair)\n",
            "        Family: poisson\n",
            "          Link: mu = log\n",
            "  Observations: 1600\n",
            "        Priors: \n",
            "    target = mu\n",
            "        Common-level effects\n",
            "            Intercept ~ Normal(mu: 0.0, sigma: 3.5355)\n",
            "            method ~ Normal(mu: 0.0, sigma: 5.0)\n",
            "        \n",
            "        Group-level effects\n",
            "            1|model ~ Normal(mu: 0.0, sigma: HalfNormal(sigma: 3.5355))\n",
            "            1|dataset ~ Normal(mu: 0.0, sigma: HalfNormal(sigma: 3.5355))\n",
            "            1|dataset:pair ~ Normal(mu: 0.0, sigma: HalfNormal(sigma: 3.5355))\n",
            "------\n",
            "* To see a plot of the priors call the .plot_priors() method.\n",
            "* To see a summary or plot of the posterior pass the object returned by .fit() to az.summary() or az.plot_trace()\n"
          ]
        }
      ],
      "source": [
        "print(model_bias)"
      ]
    }
  ],
  "metadata": {
    "accelerator": "GPU",
    "colab": {
      "gpuType": "T4",
      "provenance": []
    },
    "kernelspec": {
      "display_name": "Python 3",
      "name": "python3"
    },
    "language_info": {
      "codemirror_mode": {
        "name": "ipython",
        "version": 3
      },
      "file_extension": ".py",
      "mimetype": "text/x-python",
      "name": "python",
      "nbconvert_exporter": "python",
      "pygments_lexer": "ipython3",
      "version": "3.11.5"
    }
  },
  "nbformat": 4,
  "nbformat_minor": 0
}
